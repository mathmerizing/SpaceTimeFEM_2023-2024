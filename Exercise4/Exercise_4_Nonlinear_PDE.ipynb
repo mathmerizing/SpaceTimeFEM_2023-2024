{
 "cells": [
  {
   "cell_type": "markdown",
   "metadata": {},
   "source": [
    "# Solving the nonlinear PDE $\\partial_t u - \\Delta u + u^2 = f$ with tensor-product space-time FEM in FEniCS"
   ]
  },
  {
   "cell_type": "code",
   "execution_count": 1,
   "metadata": {
    "id": "fVX5BeVqmvIL"
   },
   "outputs": [],
   "source": [
    "try:\n",
    "    import dolfin\n",
    "except ImportError:\n",
    "    !wget \"https://fem-on-colab.github.io/releases/fenics-install.sh\" -O \"/tmp/fenics-install.sh\" && bash \"/tmp/fenics-install.sh\"\n",
    "    import dolfin"
   ]
  },
  {
   "cell_type": "markdown",
   "metadata": {},
   "source": [
    "Using discontinuous finite elements in time and continuous finite elements in space, the variational formulation for the nonlinear heat equation reads\n",
    "$$\n",
    "\\sum_{m = 1}^M \\int_{t_{m-1}}^{t_m} (\\partial_t u, \\phi) + (\\nabla u, \\nabla \\phi) + (u^2, \\phi)\\ \\mathrm{d}t + \\sum_{m = 1}^{M-1} ([u]_m, \\phi_m^+) + (u_0^+, \\phi_0^+) = (u^0, \\phi_0^+).\n",
    "$$\n",
    "Here the jump $[u]_m$ is defined as $[u]_m = u_m^+ - u_m^-$, where $u_m^+$ is the limit from above and $u_m^-$ is the limit from below at $t_m$.\n",
    "The second term with the jump terms can be thought of as the integral/sum over the interior faces, since we have the temporal elements $(t_0, t_1), (t_1, t_2), ..., (t_{M-1}, t_M)$. Furthermore, we denote by the inner product $(f,g)$ the $L^2(\\Omega)$ inner product, i.e.\n",
    "$$\n",
    "(f,g) := (f,g)_{L^2(\\Omega)} := \\int_\\Omega f \\cdot g\\ \\mathrm{d}x.\n",
    "$$\n",
    "Unlike Exercise 3 where we considered a linear PDE, it is not computationally feasible to use a Kronecker product space-time matrix assembly. Instead we will perform the temporal integration with SymPy as in Exercise 2 and use FEniCS for the spatial integration of the FEM matrices."
   ]
  },
  {
   "cell_type": "markdown",
   "metadata": {
    "id": "RX7JSuXpdLXO"
   },
   "source": [
    "## Create temporal basis in SymPy"
   ]
  },
  {
   "cell_type": "markdown",
   "metadata": {},
   "source": [
    "The following code for the creation and helper functions for the temporal basis is done in SymPy similar to Exercise 2. The major difference is that we can assemble the basis now on temporal meshes containing multiple elements. This is being done by defining the temporal basis on the reference element $(0,1)$ and then transforming the basis and its derivatives on the actual elements $(t_{m-1},t_m)$. Furthermore, for the numerical integration in the temporal assembly, we will use numerical quadrature. More concretely, we will employ Gauss-Legendre quadrature."
   ]
  },
  {
   "cell_type": "code",
   "execution_count": 2,
   "metadata": {
    "id": "V2OwOxpRdJ8i"
   },
   "outputs": [],
   "source": [
    "import numpy as np\n",
    "import matplotlib.pyplot as plt\n",
    "from sympy import Mul, Id, symbols, init_printing, expand, compose, diff, lambdify, Piecewise\n",
    "from IPython.display import Math, display\n",
    "from fenics import IntervalMesh, Function, TrialFunction, TestFunction, TestFunctions, FunctionSpace, dx, inner, grad, FiniteElement, MixedElement, Constant, assemble, Expression, interpolate, solve, DirichletBC, plot, errornorm, set_log_active, derivative, parameters\n",
    "from ufl import replace\n",
    "import time\n",
    "import pandas as pd\n",
    "\n",
    "set_log_active(False) # turn off FEniCS logging\n",
    "parameters[\"reorder_dofs_serial\"] = False\n",
    "\n",
    "t = symbols(\"t\")\n",
    "init_printing()\n",
    "\n",
    "# HELPER FUNCTIONS\n",
    "# compute temporal basis functions from the roots\n",
    "def compute_basis_functions(roots):\n",
    "    basis = []\n",
    "    for i in range(len(roots)):\n",
    "        f = 1 + 0*Id(t)\n",
    "        for j in range(len(roots)):\n",
    "            if i != j:\n",
    "                f = Mul(f,(t - roots[j]) / (roots[i] - roots[j]))\n",
    "        basis.append(expand(f))\n",
    "    return basis\n",
    "\n",
    "# transform roots from [-1, 1] to [0, 1]\n",
    "def transform_roots(roots):\n",
    "    new_roots = []\n",
    "    for root in roots:\n",
    "        new_roots.append((root + 1) / 2)\n",
    "    return new_roots\n",
    "\n",
    "# dictionary of temporal bases depending on the polynomial degree\n",
    "# FE basis on reference element (0,1)\n",
    "φ = {}\n",
    "roots = {}\n",
    "\n",
    "roots[0] = [1.]\n",
    "φ[0] = [1 + 0*Id(t)]\n",
    "roots[1] = [0., 1.]\n",
    "φ[1] = [1-t, t]\n",
    "roots[2] = transform_roots([-1, 0, 1])\n",
    "φ[2] = compute_basis_functions(roots[2])\n",
    "\n",
    "class TimeFE:\n",
    "    def __init__(self, r=1, a=0., b=1., n_time=1, n_q_points=3):\n",
    "        self.r = r # polynomial degree in time\n",
    "        self.n_time = n_time # number of temporal elements\n",
    "        self.n_dofs = (self.r+1) * self.n_time # total number of temporal dofs on slab\n",
    "        self.dof_locations = []\n",
    "        self.a = a # start time of slab\n",
    "        self.b = b # end time of slab\n",
    "        self.k = (self.b - self.a) / self.n_time\n",
    "        self.epsilon = self.k * 1e-14\n",
    "\n",
    "        self.generate_mesh()\n",
    "        self.get_full_basis()\n",
    "        self.lambdify_basis()\n",
    "        self.compute_quadrature(n_q_points)\n",
    "\n",
    "    def generate_mesh(self):\n",
    "        # create an uniform temporal mesh with mesh size self.k\n",
    "        self.mesh = [(self.a, self.a+self.k)]\n",
    "        while len(self.mesh) < self.n_time:\n",
    "            self.mesh.append((self.mesh[-1][1], self.mesh[-1][1]+self.k))\n",
    "\n",
    "    # transform basis functions from [0,1] to [a,b]\n",
    "    def transform_function(self, f, a, b):\n",
    "        return compose(f, (t-a)/(b-a)) # = f((t-a)/(b-a))\n",
    "    \n",
    "    def transform_derivative(self, a, b):\n",
    "        return 1 / (b-a)\n",
    "\n",
    "    # get full FE basis and its derivative on temporal mesh\n",
    "    def get_full_basis(self):\n",
    "        self._basis = []\n",
    "        self._basis_derivative = []\n",
    "        self.local_dofs = {}\n",
    "        i = 0\n",
    "        for (a,b) in self.mesh:\n",
    "            self.local_dofs[(a,b)] = []\n",
    "            for f, t_q in zip(φ[self.r], roots[self.r]):\n",
    "                self._basis.append(self.transform_function(f, a, b))\n",
    "                self._basis_derivative.append(diff(self._basis[-1],t))\n",
    "                self.local_dofs[(a,b)].append(i)\n",
    "                self.dof_locations.append(t_q*(b-a)+a)\n",
    "                i += 1\n",
    "\n",
    "    # convert SymPy functions to Python functions and ensure that they are 0 outside the element that they are defined on\n",
    "    def lambdify_basis(self):\n",
    "        self.phi = []\n",
    "        self.dt_phi = []\n",
    "\n",
    "        for (a,b) in self.mesh:\n",
    "            for i in self.local_dofs[(a,b)]:\n",
    "                self.phi.append(\n",
    "                    lambdify(\n",
    "                        t,\n",
    "                        Piecewise(\n",
    "                            (0, t < a),\n",
    "                            (0, t > b),\n",
    "                            (self._basis[i], True)\n",
    "                        )\n",
    "                    )\n",
    "                )\n",
    "\n",
    "                self.dt_phi.append(\n",
    "                    lambdify(\n",
    "                        t,\n",
    "                        Piecewise(\n",
    "                            (0, t < a),\n",
    "                            (0, t > b),\n",
    "                            (self._basis_derivative[i], True)\n",
    "                        )\n",
    "                    )\n",
    "                )\n",
    "\n",
    "    def compute_quadrature(self, n_q_points):\n",
    "        # Gauss-Legendre quadrature points and weights on [-1,1]\n",
    "        quad_points, quad_weights = np.polynomial.legendre.leggauss(n_q_points)\n",
    "\n",
    "        # transform quadrature points and weights from [-1,1] to [a,b] for each temporal element [a,b]\n",
    "        self.quadrature = {}\n",
    "        for (a, b) in self.mesh:\n",
    "            t_q = 0.5 * (b-a) * quad_points + 0.5 * (a+b)\n",
    "            w_q = 0.5 * (b-a) * quad_weights\n",
    "            self.quadrature[(a,b)] = [(t_q[i], w_q[i]) for i in range(t_q.shape[0])]\n",
    "            \n",
    "        # Gauss-Legendre quadrature points and weights on [-1,1]\n",
    "        quad_points, quad_weights = np.polynomial.legendre.leggauss(n_q_points+2)\n",
    "\n",
    "        # transform quadrature points and weights from [-1,1] to [a,b] for each temporal element [a,b]\n",
    "        self.quadrature_fine = {}\n",
    "        for (a, b) in self.mesh:\n",
    "            t_q = 0.5 * (b-a) * quad_points + 0.5 * (a+b)\n",
    "            w_q = 0.5 * (b-a) * quad_weights\n",
    "            self.quadrature_fine[(a,b)] = [(t_q[i], w_q[i]) for i in range(t_q.shape[0])]\n",
    "\n",
    "    def plot_basis(self, basis_type=\"function\", title=None):\n",
    "        assert basis_type in [\"function\", \"derivative\"], f\"basis_type='{basis_type}' has not been implemented.\"\n",
    "\n",
    "        _t = np.linspace(self.a, self.b, 100)\n",
    "        for i in range(len(self.phi)):\n",
    "            if basis_type == \"function\":\n",
    "                plt.plot(_t, [self.phi[i](time_point) for time_point in _t], label=rf\"$\\varphi_{{{i}}}$\")\n",
    "            elif basis_type == \"derivative\":\n",
    "                plt.plot(_t, [self.dt_phi[i](time_point) for time_point in _t], label=rf\"$\\partial_t \\varphi_{{{i}}}$\")\n",
    "\n",
    "        plt.xlabel(\"t\")\n",
    "        plt.ylabel(\"f(t)\")\n",
    "        plt.legend()\n",
    "        if title is not None:\n",
    "            plt.title(title)\n",
    "        plt.show()\n",
    "        \n",
    "    def get_solution_at_time(self, time_point, Vh):\n",
    "        tmp = interpolate(Constant(0.), Vh)\n",
    "        for i in range(self.n_dofs):\n",
    "            tmp.vector()[:] += Time.phi[i](time_point) * U.sub(i, deepcopy=True).vector()[:]\n",
    "        return tmp"
   ]
  },
  {
   "cell_type": "markdown",
   "metadata": {
    "id": "QmEaxoyAdR7x"
   },
   "source": [
    "## Assemble space-time integrals using numerical quadrature in time and FEniCS forms in space"
   ]
  },
  {
   "cell_type": "markdown",
   "metadata": {},
   "source": [
    "We now perform a numerical convergence analysis and use different finite element polynomial degrees in space and time. To solve the space-time problem, we manually perform the numerical integration in time and use the FEM library for the assembly of spatial variational formulations at the temporal quadrature points. We first explain this at the space-time volume integral of the heat equation without nonlinearity\n",
    "$$\n",
    "    \\sum_{m=1}^M\\int_{I_m} (\\partial_t u, \\phi) + (\\nabla_x u, \\nabla_x \\phi)\\ \\mathrm{d}t.\n",
    "$$\n",
    "For simplicity, we drop the sum over the temporal elements and only consider a single temporal element $I_m$.\n",
    "We have the finite element ansatz\n",
    "$$\n",
    "    u(x,t) = \\sum_{i_k = 1}^{\\# \\text{DoFs(time)}} \\sum_{i_h = 1}^{\\# \\text{DoFs(space)}} u_{i_k, i_h} \\phi_k^{(i_k)}(t)\\phi_h^{(i_h)}(x) = \\sum_{i_k = 1}^{\\# \\text{DoFs(time)}} \\tilde{u}_{i_k}(x) \\phi_k^{(i_k)}(t),    \n",
    "$$\n",
    "where we used the tensor-product structure of the basis functions\n",
    "$$\n",
    "    \\phi(x,t) = \\phi_k(t)\\phi_h(x)\n",
    "$$\n",
    "and used the definition\n",
    "$$\n",
    "    \\tilde{u}_{i_k}(x) := \\sum_{i_h = 1}^{\\# \\text{DoFs(space)}} u_{i_k, i_h} \\phi_h^{(i_h)}(x).\n",
    "$$\n",
    "Then, the space-time integral for the heat equation can be reformulated by using a temporal quadrature rule $\\{(t_q, w_q) \\}_{q = 1}^{n_q}$ where the temporal quadrature points $t_q$ and weights $w_q$ are defined on $I_m$ and we thus get  \n",
    "$$\n",
    "    \\int_{I_m} (\\partial_t u, \\phi) + (\\nabla_x u, \\nabla_x \\phi)\\ \\mathrm{d}t = \\sum_{q = 1}^{n_q} \\sum_{i_k = 1}^{\\# \\text{DoFs(time)}} w_q  \\Big( \\partial_t \\phi_k^{(i_k)}(t_q) \\phi_k(t_q)  (\\tilde{u}_{i_k}, \\phi_h) + \\phi_k^{(i_k)}(t_q) \\phi_k(t_q) (\\nabla_x \\tilde{u}_{i_k}, \\nabla_x \\phi_h) \\Big).\n",
    "$$\n",
    "Note that the temporal basis functions have been defined on $I_m$ in this equation, but the temporal integral can also be transformed back to the temporal reference element $(0,1)$ as in [LaScala2022](https://www.imperial.ac.uk/media/imperial-college/faculty-of-engineering/computing/public/2122-ug-projects/2122-individual-projects/Variational-Time-Steppers-that-are-Finite-Element-in-Time-for-Firedrake-and-Irksome.pdf)."
   ]
  },
  {
   "cell_type": "markdown",
   "metadata": {},
   "source": [
    "It remains to be discussed how the nonlinear term\n",
    "$$\n",
    "    \\sum_{m=1}^M\\int_{I_m} (u^2, \\phi)\\ \\mathrm{d}t\n",
    "$$\n",
    "can be integrated manually in time.\n",
    "After numerical quadrature in time with a temporal quadrature rule $\\{(t_q, w_q) \\}_{q = 1}^{n_q}$ where the temporal quadrature points $t_q$ and weights $w_q$ are defined on $I_m$, we get  \n",
    "$$\n",
    "    \\int_{I_m} (u^2, \\phi)\\ \\mathrm{d}t = \\sum_{q = 1}^{n_q} \\sum_{i_k = 1}^{\\# \\text{DoFs(time)}} \\sum_{j_k = 1}^{\\# \\text{DoFs(time)}} w_q \\phi_k^{(i_k)}(t_q) \\phi_k^{(j_k)}(t_q) \\phi_k(t_q) (\\tilde{u}_{i_k} \\tilde{u}_{j_k}, \\phi_h).\n",
    "$$"
   ]
  },
  {
   "cell_type": "code",
   "execution_count": 3,
   "metadata": {
    "colab": {
     "base_uri": "https://localhost:8080/",
     "height": 1000
    },
    "id": "VBtzHX-AdJ_W",
    "outputId": "46534300-d693-4cc2-efdb-51b7f676bbbf"
   },
   "outputs": [
    {
     "name": "stdout",
     "output_type": "stream",
     "text": [
      "CONFIG: s = 1, r = 0, slab_size = 0.5, n_x = 2\n"
     ]
    },
    {
     "data": {
      "image/png": "[encoded data removed]",
      "text/plain": [
       "<Figure size 432x288 with 1 Axes>"
      ]
     },
     "metadata": {
      "needs_background": "light"
     },
     "output_type": "display_data"
    },
    {
     "name": "stdout",
     "output_type": "stream",
     "text": [
      "Solving on slab_0 = Ω x (0.0, 0.5) ...\n",
      "Done.\n",
      "\n",
      "------------\n",
      "| RESULTS: |\n",
      "------------\n",
      "Space-time Dofs: 6\n",
      "L2 error: 0.0002793298983527721\n",
      "CPU Time: 0.16498 s \n",
      "\n",
      "\n",
      "CONFIG: s = 1, r = 0, slab_size = 0.25, n_x = 4\n"
     ]
    },
    {
     "data": {
      "image/png": "[encoded data removed]",
      "text/plain": [
       "<Figure size 432x288 with 1 Axes>"
      ]
     },
     "metadata": {
      "needs_background": "light"
     },
     "output_type": "display_data"
    },
    {
     "name": "stdout",
     "output_type": "stream",
     "text": [
      "Solving on slab_0 = Ω x (0.0, 0.25) ...\n",
      "Done.\n",
      "\n",
      "Solving on slab_1 = Ω x (0.25, 0.5) ...\n",
      "Done.\n",
      "\n",
      "------------\n",
      "| RESULTS: |\n",
      "------------\n",
      "Space-time Dofs: 20\n",
      "L2 error: 6.497174350479874e-05\n",
      "CPU Time: 0.13166 s \n",
      "\n",
      "\n",
      "CONFIG: s = 1, r = 0, slab_size = 0.125, n_x = 8\n"
     ]
    },
    {
     "data": {
      "image/png": "[encoded data removed]",
      "text/plain": [
       "<Figure size 432x288 with 1 Axes>"
      ]
     },
     "metadata": {
      "needs_background": "light"
     },
     "output_type": "display_data"
    },
    {
     "name": "stdout",
     "output_type": "stream",
     "text": [
      "Solving on slab_0 = Ω x (0.0, 0.125) ...\n",
      "Done.\n",
      "\n",
      "Solving on slab_1 = Ω x (0.125, 0.25) ...\n",
      "Done.\n",
      "\n",
      "Solving on slab_2 = Ω x (0.25, 0.375) ...\n",
      "Done.\n",
      "\n",
      "Solving on slab_3 = Ω x (0.375, 0.5) ...\n",
      "Done.\n",
      "\n",
      "------------\n",
      "| RESULTS: |\n",
      "------------\n",
      "Space-time Dofs: 72\n",
      "L2 error: 1.4223019160250412e-05\n",
      "CPU Time: 0.19107 s \n",
      "\n",
      "\n",
      "CONFIG: s = 1, r = 0, slab_size = 0.0625, n_x = 16\n"
     ]
    },
    {
     "data": {
      "image/png": "[encoded data removed]",
      "text/plain": [
       "<Figure size 432x288 with 1 Axes>"
      ]
     },
     "metadata": {
      "needs_background": "light"
     },
     "output_type": "display_data"
    },
    {
     "name": "stdout",
     "output_type": "stream",
     "text": [
      "Solving on slab_0 = Ω x (0.0, 0.0625) ...\n",
      "Done.\n",
      "\n",
      "Solving on slab_1 = Ω x (0.0625, 0.125) ...\n",
      "Done.\n",
      "\n",
      "Solving on slab_2 = Ω x (0.125, 0.1875) ...\n",
      "Done.\n",
      "\n",
      "Solving on slab_3 = Ω x (0.1875, 0.25) ...\n",
      "Done.\n",
      "\n",
      "Solving on slab_4 = Ω x (0.25, 0.3125) ...\n",
      "Done.\n",
      "\n",
      "Solving on slab_5 = Ω x (0.3125, 0.375) ...\n",
      "Done.\n",
      "\n",
      "Solving on slab_6 = Ω x (0.375, 0.4375) ...\n",
      "Done.\n",
      "\n",
      "Solving on slab_7 = Ω x (0.4375, 0.5) ...\n",
      "Done.\n",
      "\n",
      "------------\n",
      "| RESULTS: |\n",
      "------------\n",
      "Space-time Dofs: 272\n",
      "L2 error: 3.4695996805242286e-06\n",
      "CPU Time: 0.30076 s \n",
      "\n",
      "\n",
      "CONFIG: s = 1, r = 0, slab_size = 0.03125, n_x = 32\n"
     ]
    },
    {
     "data": {
      "image/png": "[encoded data removed]",
      "text/plain": [
       "<Figure size 432x288 with 1 Axes>"
      ]
     },
     "metadata": {
      "needs_background": "light"
     },
     "output_type": "display_data"
    },
    {
     "name": "stdout",
     "output_type": "stream",
     "text": [
      "Solving on slab_0 = Ω x (0.0, 0.03125) ...\n",
      "Done.\n",
      "\n",
      "Solving on slab_1 = Ω x (0.03125, 0.0625) ...\n",
      "Done.\n",
      "\n",
      "Solving on slab_2 = Ω x (0.0625, 0.09375) ...\n",
      "Done.\n",
      "\n",
      "Solving on slab_3 = Ω x (0.09375, 0.125) ...\n",
      "Done.\n",
      "\n",
      "Solving on slab_4 = Ω x (0.125, 0.15625) ...\n",
      "Done.\n",
      "\n",
      "Solving on slab_5 = Ω x (0.15625, 0.1875) ...\n",
      "Done.\n",
      "\n",
      "Solving on slab_6 = Ω x (0.1875, 0.21875) ...\n",
      "Done.\n",
      "\n",
      "Solving on slab_7 = Ω x (0.21875, 0.25) ...\n",
      "Done.\n",
      "\n",
      "Solving on slab_8 = Ω x (0.25, 0.28125) ...\n",
      "Done.\n",
      "\n",
      "Solving on slab_9 = Ω x (0.28125, 0.3125) ...\n",
      "Done.\n",
      "\n",
      "Solving on slab_10 = Ω x (0.3125, 0.34375) ...\n",
      "Done.\n",
      "\n",
      "Solving on slab_11 = Ω x (0.34375, 0.375) ...\n",
      "Done.\n",
      "\n",
      "Solving on slab_12 = Ω x (0.375, 0.40625) ...\n",
      "Done.\n",
      "\n",
      "Solving on slab_13 = Ω x (0.40625, 0.4375) ...\n",
      "Done.\n",
      "\n",
      "Solving on slab_14 = Ω x (0.4375, 0.46875) ...\n",
      "Done.\n",
      "\n",
      "Solving on slab_15 = Ω x (0.46875, 0.5) ...\n",
      "Done.\n",
      "\n",
      "------------\n",
      "| RESULTS: |\n",
      "------------\n",
      "Space-time Dofs: 1056\n",
      "L2 error: 8.747961330343741e-07\n",
      "CPU Time: 0.51125 s \n",
      "\n",
      "\n",
      "CONFIG: s = 1, r = 0, slab_size = 0.015625, n_x = 64\n"
     ]
    },
    {
     "data": {
      "image/png": "[encoded data removed]",
      "text/plain": [
       "<Figure size 432x288 with 1 Axes>"
      ]
     },
     "metadata": {
      "needs_background": "light"
     },
     "output_type": "display_data"
    },
    {
     "name": "stdout",
     "output_type": "stream",
     "text": [
      "Solving on slab_0 = Ω x (0.0, 0.01562) ...\n",
      "Done.\n",
      "\n",
      "Solving on slab_1 = Ω x (0.01562, 0.03125) ...\n",
      "Done.\n",
      "\n",
      "Solving on slab_2 = Ω x (0.03125, 0.04688) ...\n",
      "Done.\n",
      "\n",
      "Solving on slab_3 = Ω x (0.04688, 0.0625) ...\n",
      "Done.\n",
      "\n",
      "Solving on slab_4 = Ω x (0.0625, 0.07812) ...\n",
      "Done.\n",
      "\n",
      "Solving on slab_5 = Ω x (0.07812, 0.09375) ...\n",
      "Done.\n",
      "\n",
      "Solving on slab_6 = Ω x (0.09375, 0.10938) ...\n",
      "Done.\n",
      "\n",
      "Solving on slab_7 = Ω x (0.10938, 0.125) ...\n",
      "Done.\n",
      "\n",
      "Solving on slab_8 = Ω x (0.125, 0.14062) ...\n",
      "Done.\n",
      "\n",
      "Solving on slab_9 = Ω x (0.14062, 0.15625) ...\n",
      "Done.\n",
      "\n",
      "Solving on slab_10 = Ω x (0.15625, 0.17188) ...\n",
      "Done.\n",
      "\n",
      "Solving on slab_11 = Ω x (0.17188, 0.1875) ...\n",
      "Done.\n",
      "\n",
      "Solving on slab_12 = Ω x (0.1875, 0.20312) ...\n",
      "Done.\n",
      "\n",
      "Solving on slab_13 = Ω x (0.20312, 0.21875) ...\n",
      "Done.\n",
      "\n",
      "Solving on slab_14 = Ω x (0.21875, 0.23438) ...\n",
      "Done.\n",
      "\n",
      "Solving on slab_15 = Ω x (0.23438, 0.25) ...\n",
      "Done.\n",
      "\n",
      "Solving on slab_16 = Ω x (0.25, 0.26562) ...\n",
      "Done.\n",
      "\n",
      "Solving on slab_17 = Ω x (0.26562, 0.28125) ...\n",
      "Done.\n",
      "\n",
      "Solving on slab_18 = Ω x (0.28125, 0.29688) ...\n",
      "Done.\n",
      "\n",
      "Solving on slab_19 = Ω x (0.29688, 0.3125) ...\n",
      "Done.\n",
      "\n",
      "Solving on slab_20 = Ω x (0.3125, 0.32812) ...\n",
      "Done.\n",
      "\n",
      "Solving on slab_21 = Ω x (0.32812, 0.34375) ...\n",
      "Done.\n",
      "\n",
      "Solving on slab_22 = Ω x (0.34375, 0.35938) ...\n",
      "Done.\n",
      "\n",
      "Solving on slab_23 = Ω x (0.35938, 0.375) ...\n",
      "Done.\n",
      "\n",
      "Solving on slab_24 = Ω x (0.375, 0.39062) ...\n",
      "Done.\n",
      "\n",
      "Solving on slab_25 = Ω x (0.39062, 0.40625) ...\n",
      "Done.\n",
      "\n",
      "Solving on slab_26 = Ω x (0.40625, 0.42188) ...\n",
      "Done.\n",
      "\n",
      "Solving on slab_27 = Ω x (0.42188, 0.4375) ...\n",
      "Done.\n",
      "\n",
      "Solving on slab_28 = Ω x (0.4375, 0.45312) ...\n",
      "Done.\n",
      "\n",
      "Solving on slab_29 = Ω x (0.45312, 0.46875) ...\n",
      "Done.\n",
      "\n",
      "Solving on slab_30 = Ω x (0.46875, 0.48438) ...\n",
      "Done.\n",
      "\n",
      "Solving on slab_31 = Ω x (0.48438, 0.5) ...\n",
      "Done.\n",
      "\n",
      "------------\n",
      "| RESULTS: |\n",
      "------------\n",
      "Space-time Dofs: 4160\n",
      "L2 error: 2.2101340335239993e-07\n",
      "CPU Time: 1.01081 s \n",
      "\n",
      "\n",
      "CONFIG: s = 1, r = 1, slab_size = 0.5, n_x = 2\n"
     ]
    },
    {
     "data": {
      "image/png": "[encoded data removed]",
      "text/plain": [
       "<Figure size 432x288 with 1 Axes>"
      ]
     },
     "metadata": {
      "needs_background": "light"
     },
     "output_type": "display_data"
    },
    {
     "name": "stdout",
     "output_type": "stream",
     "text": [
      "Solving on slab_0 = Ω x (0.0, 0.5) ...\n",
      "Done.\n",
      "\n",
      "------------\n",
      "| RESULTS: |\n",
      "------------\n",
      "Space-time Dofs: 12\n",
      "L2 error: 0.00013175797529812268\n",
      "CPU Time: 0.17558 s \n",
      "\n",
      "\n",
      "CONFIG: s = 1, r = 1, slab_size = 0.25, n_x = 4\n"
     ]
    },
    {
     "data": {
      "image/png": "[encoded data removed]",
      "text/plain": [
       "<Figure size 432x288 with 1 Axes>"
      ]
     },
     "metadata": {
      "needs_background": "light"
     },
     "output_type": "display_data"
    },
    {
     "name": "stdout",
     "output_type": "stream",
     "text": [
      "Solving on slab_0 = Ω x (0.0, 0.25) ...\n",
      "Done.\n",
      "\n",
      "Solving on slab_1 = Ω x (0.25, 0.5) ...\n",
      "Done.\n",
      "\n",
      "------------\n",
      "| RESULTS: |\n",
      "------------\n",
      "Space-time Dofs: 40\n",
      "L2 error: 1.6663278203022285e-05\n",
      "CPU Time: 0.25133 s \n",
      "\n",
      "\n",
      "CONFIG: s = 1, r = 1, slab_size = 0.125, n_x = 8\n"
     ]
    },
    {
     "data": {
      "image/png": "[encoded data removed]",
      "text/plain": [
       "<Figure size 432x288 with 1 Axes>"
      ]
     },
     "metadata": {
      "needs_background": "light"
     },
     "output_type": "display_data"
    },
    {
     "name": "stdout",
     "output_type": "stream",
     "text": [
      "Solving on slab_0 = Ω x (0.0, 0.125) ...\n",
      "Done.\n",
      "\n",
      "Solving on slab_1 = Ω x (0.125, 0.25) ...\n",
      "Done.\n",
      "\n",
      "Solving on slab_2 = Ω x (0.25, 0.375) ...\n",
      "Done.\n",
      "\n",
      "Solving on slab_3 = Ω x (0.375, 0.5) ...\n",
      "Done.\n",
      "\n",
      "------------\n",
      "| RESULTS: |\n",
      "------------\n",
      "Space-time Dofs: 144\n",
      "L2 error: 1.2018973770900953e-06\n",
      "CPU Time: 0.46675 s \n",
      "\n",
      "\n",
      "CONFIG: s = 1, r = 1, slab_size = 0.0625, n_x = 16\n"
     ]
    },
    {
     "data": {
      "image/png": "[encoded data removed]",
      "text/plain": [
       "<Figure size 432x288 with 1 Axes>"
      ]
     },
     "metadata": {
      "needs_background": "light"
     },
     "output_type": "display_data"
    },
    {
     "name": "stdout",
     "output_type": "stream",
     "text": [
      "Solving on slab_0 = Ω x (0.0, 0.0625) ...\n",
      "Done.\n",
      "\n",
      "Solving on slab_1 = Ω x (0.0625, 0.125) ...\n",
      "Done.\n",
      "\n",
      "Solving on slab_2 = Ω x (0.125, 0.1875) ...\n",
      "Done.\n",
      "\n",
      "Solving on slab_3 = Ω x (0.1875, 0.25) ...\n",
      "Done.\n",
      "\n",
      "Solving on slab_4 = Ω x (0.25, 0.3125) ...\n",
      "Done.\n",
      "\n",
      "Solving on slab_5 = Ω x (0.3125, 0.375) ...\n",
      "Done.\n",
      "\n",
      "Solving on slab_6 = Ω x (0.375, 0.4375) ...\n",
      "Done.\n",
      "\n",
      "Solving on slab_7 = Ω x (0.4375, 0.5) ...\n",
      "Done.\n",
      "\n",
      "------------\n",
      "| RESULTS: |\n",
      "------------\n",
      "Space-time Dofs: 544\n",
      "L2 error: 7.785618863372864e-08\n",
      "CPU Time: 0.81866 s \n",
      "\n",
      "\n",
      "CONFIG: s = 1, r = 1, slab_size = 0.03125, n_x = 32\n"
     ]
    },
    {
     "data": {
      "image/png": "[encoded data removed]",
      "text/plain": [
       "<Figure size 432x288 with 1 Axes>"
      ]
     },
     "metadata": {
      "needs_background": "light"
     },
     "output_type": "display_data"
    },
    {
     "name": "stdout",
     "output_type": "stream",
     "text": [
      "Solving on slab_0 = Ω x (0.0, 0.03125) ...\n",
      "Done.\n",
      "\n",
      "Solving on slab_1 = Ω x (0.03125, 0.0625) ...\n",
      "Done.\n",
      "\n",
      "Solving on slab_2 = Ω x (0.0625, 0.09375) ...\n",
      "Done.\n",
      "\n",
      "Solving on slab_3 = Ω x (0.09375, 0.125) ...\n",
      "Done.\n",
      "\n",
      "Solving on slab_4 = Ω x (0.125, 0.15625) ...\n",
      "Done.\n",
      "\n",
      "Solving on slab_5 = Ω x (0.15625, 0.1875) ...\n",
      "Done.\n",
      "\n",
      "Solving on slab_6 = Ω x (0.1875, 0.21875) ...\n",
      "Done.\n",
      "\n",
      "Solving on slab_7 = Ω x (0.21875, 0.25) ...\n",
      "Done.\n",
      "\n",
      "Solving on slab_8 = Ω x (0.25, 0.28125) ...\n",
      "Done.\n",
      "\n",
      "Solving on slab_9 = Ω x (0.28125, 0.3125) ...\n",
      "Done.\n",
      "\n",
      "Solving on slab_10 = Ω x (0.3125, 0.34375) ...\n",
      "Done.\n",
      "\n",
      "Solving on slab_11 = Ω x (0.34375, 0.375) ...\n",
      "Done.\n",
      "\n",
      "Solving on slab_12 = Ω x (0.375, 0.40625) ...\n",
      "Done.\n",
      "\n",
      "Solving on slab_13 = Ω x (0.40625, 0.4375) ...\n",
      "Done.\n",
      "\n",
      "Solving on slab_14 = Ω x (0.4375, 0.46875) ...\n",
      "Done.\n",
      "\n",
      "Solving on slab_15 = Ω x (0.46875, 0.5) ...\n",
      "Done.\n",
      "\n",
      "------------\n",
      "| RESULTS: |\n",
      "------------\n",
      "Space-time Dofs: 2112\n",
      "L2 error: 4.913195228001783e-09\n",
      "CPU Time: 1.44132 s \n",
      "\n",
      "\n",
      "CONFIG: s = 1, r = 1, slab_size = 0.015625, n_x = 64\n"
     ]
    },
    {
     "data": {
      "image/png": "[encoded data removed]",
      "text/plain": [
       "<Figure size 432x288 with 1 Axes>"
      ]
     },
     "metadata": {
      "needs_background": "light"
     },
     "output_type": "display_data"
    },
    {
     "name": "stdout",
     "output_type": "stream",
     "text": [
      "Solving on slab_0 = Ω x (0.0, 0.01562) ...\n",
      "Done.\n",
      "\n",
      "Solving on slab_1 = Ω x (0.01562, 0.03125) ...\n",
      "Done.\n",
      "\n",
      "Solving on slab_2 = Ω x (0.03125, 0.04688) ...\n",
      "Done.\n",
      "\n",
      "Solving on slab_3 = Ω x (0.04688, 0.0625) ...\n",
      "Done.\n",
      "\n",
      "Solving on slab_4 = Ω x (0.0625, 0.07812) ...\n",
      "Done.\n",
      "\n",
      "Solving on slab_5 = Ω x (0.07812, 0.09375) ...\n",
      "Done.\n",
      "\n",
      "Solving on slab_6 = Ω x (0.09375, 0.10938) ...\n",
      "Done.\n",
      "\n",
      "Solving on slab_7 = Ω x (0.10938, 0.125) ...\n",
      "Done.\n",
      "\n",
      "Solving on slab_8 = Ω x (0.125, 0.14062) ...\n",
      "Done.\n",
      "\n",
      "Solving on slab_9 = Ω x (0.14062, 0.15625) ...\n",
      "Done.\n",
      "\n",
      "Solving on slab_10 = Ω x (0.15625, 0.17188) ...\n",
      "Done.\n",
      "\n",
      "Solving on slab_11 = Ω x (0.17188, 0.1875) ...\n",
      "Done.\n",
      "\n",
      "Solving on slab_12 = Ω x (0.1875, 0.20312) ...\n",
      "Done.\n",
      "\n",
      "Solving on slab_13 = Ω x (0.20312, 0.21875) ...\n",
      "Done.\n",
      "\n",
      "Solving on slab_14 = Ω x (0.21875, 0.23438) ...\n",
      "Done.\n",
      "\n",
      "Solving on slab_15 = Ω x (0.23438, 0.25) ...\n",
      "Done.\n",
      "\n",
      "Solving on slab_16 = Ω x (0.25, 0.26562) ...\n",
      "Done.\n",
      "\n",
      "Solving on slab_17 = Ω x (0.26562, 0.28125) ...\n",
      "Done.\n",
      "\n",
      "Solving on slab_18 = Ω x (0.28125, 0.29688) ...\n",
      "Done.\n",
      "\n",
      "Solving on slab_19 = Ω x (0.29688, 0.3125) ...\n",
      "Done.\n",
      "\n",
      "Solving on slab_20 = Ω x (0.3125, 0.32812) ...\n",
      "Done.\n",
      "\n",
      "Solving on slab_21 = Ω x (0.32812, 0.34375) ...\n",
      "Done.\n",
      "\n",
      "Solving on slab_22 = Ω x (0.34375, 0.35938) ...\n",
      "Done.\n",
      "\n",
      "Solving on slab_23 = Ω x (0.35938, 0.375) ...\n",
      "Done.\n",
      "\n",
      "Solving on slab_24 = Ω x (0.375, 0.39062) ...\n",
      "Done.\n",
      "\n",
      "Solving on slab_25 = Ω x (0.39062, 0.40625) ...\n",
      "Done.\n",
      "\n",
      "Solving on slab_26 = Ω x (0.40625, 0.42188) ...\n",
      "Done.\n",
      "\n",
      "Solving on slab_27 = Ω x (0.42188, 0.4375) ...\n",
      "Done.\n",
      "\n",
      "Solving on slab_28 = Ω x (0.4375, 0.45312) ...\n",
      "Done.\n",
      "\n",
      "Solving on slab_29 = Ω x (0.45312, 0.46875) ...\n",
      "Done.\n",
      "\n",
      "Solving on slab_30 = Ω x (0.46875, 0.48438) ...\n",
      "Done.\n",
      "\n",
      "Solving on slab_31 = Ω x (0.48438, 0.5) ...\n",
      "Done.\n",
      "\n",
      "------------\n",
      "| RESULTS: |\n",
      "------------\n",
      "Space-time Dofs: 8320\n",
      "L2 error: 3.0794206746549455e-10\n",
      "CPU Time: 3.7225 s \n",
      "\n",
      "\n",
      "CONFIG: s = 1, r = 2, slab_size = 0.5, n_x = 2\n"
     ]
    },
    {
     "data": {
      "image/png": "[encoded data removed]",
      "text/plain": [
       "<Figure size 432x288 with 1 Axes>"
      ]
     },
     "metadata": {
      "needs_background": "light"
     },
     "output_type": "display_data"
    },
    {
     "name": "stdout",
     "output_type": "stream",
     "text": [
      "Solving on slab_0 = Ω x (0.0, 0.5) ...\n",
      "Done.\n",
      "\n",
      "------------\n",
      "| RESULTS: |\n",
      "------------\n",
      "Space-time Dofs: 18\n",
      "L2 error: 0.0001347225766072185\n",
      "CPU Time: 0.439 s \n",
      "\n",
      "\n",
      "CONFIG: s = 1, r = 2, slab_size = 0.25, n_x = 4\n"
     ]
    },
    {
     "data": {
      "image/png": "[encoded data removed]",
      "text/plain": [
       "<Figure size 432x288 with 1 Axes>"
      ]
     },
     "metadata": {
      "needs_background": "light"
     },
     "output_type": "display_data"
    },
    {
     "name": "stdout",
     "output_type": "stream",
     "text": [
      "Solving on slab_0 = Ω x (0.0, 0.25) ...\n",
      "Done.\n",
      "\n",
      "Solving on slab_1 = Ω x (0.25, 0.5) ...\n",
      "Done.\n",
      "\n",
      "------------\n",
      "| RESULTS: |\n",
      "------------\n",
      "Space-time Dofs: 60\n",
      "L2 error: 1.6795418544291498e-05\n",
      "CPU Time: 0.85373 s \n",
      "\n",
      "\n",
      "CONFIG: s = 1, r = 2, slab_size = 0.125, n_x = 8\n"
     ]
    },
    {
     "data": {
      "image/png": "[encoded data removed]",
      "text/plain": [
       "<Figure size 432x288 with 1 Axes>"
      ]
     },
     "metadata": {
      "needs_background": "light"
     },
     "output_type": "display_data"
    },
    {
     "name": "stdout",
     "output_type": "stream",
     "text": [
      "Solving on slab_0 = Ω x (0.0, 0.125) ...\n",
      "Done.\n",
      "\n",
      "Solving on slab_1 = Ω x (0.125, 0.25) ...\n",
      "Done.\n",
      "\n",
      "Solving on slab_2 = Ω x (0.25, 0.375) ...\n",
      "Done.\n",
      "\n",
      "Solving on slab_3 = Ω x (0.375, 0.5) ...\n",
      "Done.\n",
      "\n",
      "------------\n",
      "| RESULTS: |\n",
      "------------\n",
      "Space-time Dofs: 216\n",
      "L2 error: 1.2040016938138243e-06\n",
      "CPU Time: 1.47061 s \n",
      "\n",
      "\n",
      "CONFIG: s = 1, r = 2, slab_size = 0.0625, n_x = 16\n"
     ]
    },
    {
     "data": {
      "image/png": "[encoded data removed]",
      "text/plain": [
       "<Figure size 432x288 with 1 Axes>"
      ]
     },
     "metadata": {
      "needs_background": "light"
     },
     "output_type": "display_data"
    },
    {
     "name": "stdout",
     "output_type": "stream",
     "text": [
      "Solving on slab_0 = Ω x (0.0, 0.0625) ...\n",
      "Done.\n",
      "\n",
      "Solving on slab_1 = Ω x (0.0625, 0.125) ...\n",
      "Done.\n",
      "\n",
      "Solving on slab_2 = Ω x (0.125, 0.1875) ...\n",
      "Done.\n",
      "\n",
      "Solving on slab_3 = Ω x (0.1875, 0.25) ...\n",
      "Done.\n",
      "\n",
      "Solving on slab_4 = Ω x (0.25, 0.3125) ...\n",
      "Done.\n",
      "\n",
      "Solving on slab_5 = Ω x (0.3125, 0.375) ...\n",
      "Done.\n",
      "\n",
      "Solving on slab_6 = Ω x (0.375, 0.4375) ...\n",
      "Done.\n",
      "\n",
      "Solving on slab_7 = Ω x (0.4375, 0.5) ...\n",
      "Done.\n",
      "\n",
      "------------\n",
      "| RESULTS: |\n",
      "------------\n",
      "Space-time Dofs: 816\n",
      "L2 error: 7.776821683221286e-08\n",
      "CPU Time: 3.16341 s \n",
      "\n",
      "\n",
      "CONFIG: s = 1, r = 2, slab_size = 0.03125, n_x = 32\n"
     ]
    },
    {
     "data": {
      "image/png": "[encoded data removed]",
      "text/plain": [
       "<Figure size 432x288 with 1 Axes>"
      ]
     },
     "metadata": {
      "needs_background": "light"
     },
     "output_type": "display_data"
    },
    {
     "name": "stdout",
     "output_type": "stream",
     "text": [
      "Solving on slab_0 = Ω x (0.0, 0.03125) ...\n",
      "Done.\n",
      "\n",
      "Solving on slab_1 = Ω x (0.03125, 0.0625) ...\n",
      "Done.\n",
      "\n",
      "Solving on slab_2 = Ω x (0.0625, 0.09375) ...\n",
      "Done.\n",
      "\n",
      "Solving on slab_3 = Ω x (0.09375, 0.125) ...\n",
      "Done.\n",
      "\n",
      "Solving on slab_4 = Ω x (0.125, 0.15625) ...\n",
      "Done.\n",
      "\n",
      "Solving on slab_5 = Ω x (0.15625, 0.1875) ...\n",
      "Done.\n",
      "\n",
      "Solving on slab_6 = Ω x (0.1875, 0.21875) ...\n",
      "Done.\n",
      "\n",
      "Solving on slab_7 = Ω x (0.21875, 0.25) ...\n",
      "Done.\n",
      "\n",
      "Solving on slab_8 = Ω x (0.25, 0.28125) ...\n",
      "Done.\n",
      "\n",
      "Solving on slab_9 = Ω x (0.28125, 0.3125) ...\n",
      "Done.\n",
      "\n",
      "Solving on slab_10 = Ω x (0.3125, 0.34375) ...\n",
      "Done.\n",
      "\n",
      "Solving on slab_11 = Ω x (0.34375, 0.375) ...\n",
      "Done.\n",
      "\n",
      "Solving on slab_12 = Ω x (0.375, 0.40625) ...\n",
      "Done.\n",
      "\n",
      "Solving on slab_13 = Ω x (0.40625, 0.4375) ...\n",
      "Done.\n",
      "\n",
      "Solving on slab_14 = Ω x (0.4375, 0.46875) ...\n",
      "Done.\n",
      "\n",
      "Solving on slab_15 = Ω x (0.46875, 0.5) ...\n",
      "Done.\n",
      "\n",
      "------------\n",
      "| RESULTS: |\n",
      "------------\n",
      "Space-time Dofs: 3168\n",
      "L2 error: 4.9002864536466815e-09\n",
      "CPU Time: 6.00592 s \n",
      "\n",
      "\n",
      "CONFIG: s = 1, r = 2, slab_size = 0.015625, n_x = 64\n"
     ]
    },
    {
     "data": {
      "image/png": "[encoded data removed]",
      "text/plain": [
       "<Figure size 432x288 with 1 Axes>"
      ]
     },
     "metadata": {
      "needs_background": "light"
     },
     "output_type": "display_data"
    },
    {
     "name": "stdout",
     "output_type": "stream",
     "text": [
      "Solving on slab_0 = Ω x (0.0, 0.01562) ...\n",
      "Done.\n",
      "\n",
      "Solving on slab_1 = Ω x (0.01562, 0.03125) ...\n",
      "Done.\n",
      "\n",
      "Solving on slab_2 = Ω x (0.03125, 0.04688) ...\n",
      "Done.\n",
      "\n",
      "Solving on slab_3 = Ω x (0.04688, 0.0625) ...\n",
      "Done.\n",
      "\n",
      "Solving on slab_4 = Ω x (0.0625, 0.07812) ...\n",
      "Done.\n",
      "\n",
      "Solving on slab_5 = Ω x (0.07812, 0.09375) ...\n",
      "Done.\n",
      "\n",
      "Solving on slab_6 = Ω x (0.09375, 0.10938) ...\n",
      "Done.\n",
      "\n",
      "Solving on slab_7 = Ω x (0.10938, 0.125) ...\n",
      "Done.\n",
      "\n",
      "Solving on slab_8 = Ω x (0.125, 0.14062) ...\n",
      "Done.\n",
      "\n",
      "Solving on slab_9 = Ω x (0.14062, 0.15625) ...\n",
      "Done.\n",
      "\n",
      "Solving on slab_10 = Ω x (0.15625, 0.17188) ...\n",
      "Done.\n",
      "\n",
      "Solving on slab_11 = Ω x (0.17188, 0.1875) ...\n",
      "Done.\n",
      "\n",
      "Solving on slab_12 = Ω x (0.1875, 0.20312) ...\n",
      "Done.\n",
      "\n",
      "Solving on slab_13 = Ω x (0.20312, 0.21875) ...\n",
      "Done.\n",
      "\n",
      "Solving on slab_14 = Ω x (0.21875, 0.23438) ...\n",
      "Done.\n",
      "\n",
      "Solving on slab_15 = Ω x (0.23438, 0.25) ...\n",
      "Done.\n",
      "\n",
      "Solving on slab_16 = Ω x (0.25, 0.26562) ...\n",
      "Done.\n",
      "\n",
      "Solving on slab_17 = Ω x (0.26562, 0.28125) ...\n",
      "Done.\n",
      "\n",
      "Solving on slab_18 = Ω x (0.28125, 0.29688) ...\n",
      "Done.\n",
      "\n",
      "Solving on slab_19 = Ω x (0.29688, 0.3125) ...\n",
      "Done.\n",
      "\n",
      "Solving on slab_20 = Ω x (0.3125, 0.32812) ...\n",
      "Done.\n",
      "\n",
      "Solving on slab_21 = Ω x (0.32812, 0.34375) ...\n",
      "Done.\n",
      "\n",
      "Solving on slab_22 = Ω x (0.34375, 0.35938) ...\n",
      "Done.\n",
      "\n",
      "Solving on slab_23 = Ω x (0.35938, 0.375) ...\n",
      "Done.\n",
      "\n",
      "Solving on slab_24 = Ω x (0.375, 0.39062) ...\n",
      "Done.\n",
      "\n",
      "Solving on slab_25 = Ω x (0.39062, 0.40625) ...\n",
      "Done.\n",
      "\n",
      "Solving on slab_26 = Ω x (0.40625, 0.42188) ...\n",
      "Done.\n",
      "\n",
      "Solving on slab_27 = Ω x (0.42188, 0.4375) ...\n",
      "Done.\n",
      "\n",
      "Solving on slab_28 = Ω x (0.4375, 0.45312) ...\n",
      "Done.\n",
      "\n",
      "Solving on slab_29 = Ω x (0.45312, 0.46875) ...\n",
      "Done.\n",
      "\n",
      "Solving on slab_30 = Ω x (0.46875, 0.48438) ...\n",
      "Done.\n",
      "\n",
      "Solving on slab_31 = Ω x (0.48438, 0.5) ...\n",
      "Done.\n",
      "\n",
      "------------\n",
      "| RESULTS: |\n",
      "------------\n",
      "Space-time Dofs: 12480\n",
      "L2 error: 3.0689103780457414e-10\n",
      "CPU Time: 17.94666 s \n",
      "\n",
      "\n",
      "CONFIG: s = 2, r = 0, slab_size = 0.5, n_x = 2\n"
     ]
    },
    {
     "data": {
      "image/png": "[encoded data removed]",
      "text/plain": [
       "<Figure size 432x288 with 1 Axes>"
      ]
     },
     "metadata": {
      "needs_background": "light"
     },
     "output_type": "display_data"
    },
    {
     "name": "stdout",
     "output_type": "stream",
     "text": [
      "Solving on slab_0 = Ω x (0.0, 0.5) ...\n",
      "Done.\n",
      "\n",
      "------------\n",
      "| RESULTS: |\n",
      "------------\n",
      "Space-time Dofs: 10\n",
      "L2 error: 0.00017251210627268352\n",
      "CPU Time: 0.68441 s \n",
      "\n",
      "\n",
      "CONFIG: s = 2, r = 0, slab_size = 0.25, n_x = 4\n"
     ]
    },
    {
     "data": {
      "image/png": "[encoded data removed]",
      "text/plain": [
       "<Figure size 432x288 with 1 Axes>"
      ]
     },
     "metadata": {
      "needs_background": "light"
     },
     "output_type": "display_data"
    },
    {
     "name": "stdout",
     "output_type": "stream",
     "text": [
      "Solving on slab_0 = Ω x (0.0, 0.25) ...\n",
      "Done.\n",
      "\n",
      "Solving on slab_1 = Ω x (0.25, 0.5) ...\n",
      "Done.\n",
      "\n",
      "------------\n",
      "| RESULTS: |\n",
      "------------\n",
      "Space-time Dofs: 36\n",
      "L2 error: 4.769232580375681e-05\n",
      "CPU Time: 0.93863 s \n",
      "\n",
      "\n",
      "CONFIG: s = 2, r = 0, slab_size = 0.125, n_x = 8\n"
     ]
    },
    {
     "data": {
      "image/png": "[encoded data removed]",
      "text/plain": [
       "<Figure size 432x288 with 1 Axes>"
      ]
     },
     "metadata": {
      "needs_background": "light"
     },
     "output_type": "display_data"
    },
    {
     "name": "stdout",
     "output_type": "stream",
     "text": [
      "Solving on slab_0 = Ω x (0.0, 0.125) ...\n",
      "Done.\n",
      "\n",
      "Solving on slab_1 = Ω x (0.125, 0.25) ...\n",
      "Done.\n",
      "\n",
      "Solving on slab_2 = Ω x (0.25, 0.375) ...\n",
      "Done.\n",
      "\n",
      "Solving on slab_3 = Ω x (0.375, 0.5) ...\n",
      "Done.\n",
      "\n",
      "------------\n",
      "| RESULTS: |\n",
      "------------\n",
      "Space-time Dofs: 136\n",
      "L2 error: 1.2833864121373974e-05\n",
      "CPU Time: 1.26562 s \n",
      "\n",
      "\n",
      "CONFIG: s = 2, r = 0, slab_size = 0.0625, n_x = 16\n"
     ]
    },
    {
     "data": {
      "image/png": "[encoded data removed]",
      "text/plain": [
       "<Figure size 432x288 with 1 Axes>"
      ]
     },
     "metadata": {
      "needs_background": "light"
     },
     "output_type": "display_data"
    },
    {
     "name": "stdout",
     "output_type": "stream",
     "text": [
      "Solving on slab_0 = Ω x (0.0, 0.0625) ...\n",
      "Done.\n",
      "\n",
      "Solving on slab_1 = Ω x (0.0625, 0.125) ...\n",
      "Done.\n",
      "\n",
      "Solving on slab_2 = Ω x (0.125, 0.1875) ...\n",
      "Done.\n",
      "\n",
      "Solving on slab_3 = Ω x (0.1875, 0.25) ...\n",
      "Done.\n",
      "\n",
      "Solving on slab_4 = Ω x (0.25, 0.3125) ...\n",
      "Done.\n",
      "\n",
      "Solving on slab_5 = Ω x (0.3125, 0.375) ...\n",
      "Done.\n",
      "\n",
      "Solving on slab_6 = Ω x (0.375, 0.4375) ...\n",
      "Done.\n",
      "\n",
      "Solving on slab_7 = Ω x (0.4375, 0.5) ...\n",
      "Done.\n",
      "\n",
      "------------\n",
      "| RESULTS: |\n",
      "------------\n",
      "Space-time Dofs: 528\n",
      "L2 error: 3.370427129505454e-06\n",
      "CPU Time: 0.47232 s \n",
      "\n",
      "\n",
      "CONFIG: s = 2, r = 0, slab_size = 0.03125, n_x = 32\n"
     ]
    },
    {
     "data": {
      "image/png": "[encoded data removed]",
      "text/plain": [
       "<Figure size 432x288 with 1 Axes>"
      ]
     },
     "metadata": {
      "needs_background": "light"
     },
     "output_type": "display_data"
    },
    {
     "name": "stdout",
     "output_type": "stream",
     "text": [
      "Solving on slab_0 = Ω x (0.0, 0.03125) ...\n",
      "Done.\n",
      "\n",
      "Solving on slab_1 = Ω x (0.03125, 0.0625) ...\n",
      "Done.\n",
      "\n",
      "Solving on slab_2 = Ω x (0.0625, 0.09375) ...\n",
      "Done.\n",
      "\n",
      "Solving on slab_3 = Ω x (0.09375, 0.125) ...\n",
      "Done.\n",
      "\n",
      "Solving on slab_4 = Ω x (0.125, 0.15625) ...\n",
      "Done.\n",
      "\n",
      "Solving on slab_5 = Ω x (0.15625, 0.1875) ...\n",
      "Done.\n",
      "\n",
      "Solving on slab_6 = Ω x (0.1875, 0.21875) ...\n",
      "Done.\n",
      "\n",
      "Solving on slab_7 = Ω x (0.21875, 0.25) ...\n",
      "Done.\n",
      "\n",
      "Solving on slab_8 = Ω x (0.25, 0.28125) ...\n",
      "Done.\n",
      "\n",
      "Solving on slab_9 = Ω x (0.28125, 0.3125) ...\n",
      "Done.\n",
      "\n",
      "Solving on slab_10 = Ω x (0.3125, 0.34375) ...\n",
      "Done.\n",
      "\n",
      "Solving on slab_11 = Ω x (0.34375, 0.375) ...\n",
      "Done.\n",
      "\n",
      "Solving on slab_12 = Ω x (0.375, 0.40625) ...\n",
      "Done.\n",
      "\n",
      "Solving on slab_13 = Ω x (0.40625, 0.4375) ...\n",
      "Done.\n",
      "\n",
      "Solving on slab_14 = Ω x (0.4375, 0.46875) ...\n",
      "Done.\n",
      "\n",
      "Solving on slab_15 = Ω x (0.46875, 0.5) ...\n",
      "Done.\n",
      "\n",
      "------------\n",
      "| RESULTS: |\n",
      "------------\n",
      "Space-time Dofs: 2080\n",
      "L2 error: 8.677729612556434e-07\n",
      "CPU Time: 0.53974 s \n",
      "\n",
      "\n",
      "CONFIG: s = 2, r = 0, slab_size = 0.015625, n_x = 64\n"
     ]
    },
    {
     "data": {
      "image/png": "[encoded data removed]",
      "text/plain": [
       "<Figure size 432x288 with 1 Axes>"
      ]
     },
     "metadata": {
      "needs_background": "light"
     },
     "output_type": "display_data"
    },
    {
     "name": "stdout",
     "output_type": "stream",
     "text": [
      "Solving on slab_0 = Ω x (0.0, 0.01562) ...\n",
      "Done.\n",
      "\n",
      "Solving on slab_1 = Ω x (0.01562, 0.03125) ...\n",
      "Done.\n",
      "\n",
      "Solving on slab_2 = Ω x (0.03125, 0.04688) ...\n",
      "Done.\n",
      "\n",
      "Solving on slab_3 = Ω x (0.04688, 0.0625) ...\n",
      "Done.\n",
      "\n",
      "Solving on slab_4 = Ω x (0.0625, 0.07812) ...\n",
      "Done.\n",
      "\n",
      "Solving on slab_5 = Ω x (0.07812, 0.09375) ...\n",
      "Done.\n",
      "\n",
      "Solving on slab_6 = Ω x (0.09375, 0.10938) ...\n",
      "Done.\n",
      "\n",
      "Solving on slab_7 = Ω x (0.10938, 0.125) ...\n",
      "Done.\n",
      "\n",
      "Solving on slab_8 = Ω x (0.125, 0.14062) ...\n",
      "Done.\n",
      "\n",
      "Solving on slab_9 = Ω x (0.14062, 0.15625) ...\n",
      "Done.\n",
      "\n",
      "Solving on slab_10 = Ω x (0.15625, 0.17188) ...\n",
      "Done.\n",
      "\n",
      "Solving on slab_11 = Ω x (0.17188, 0.1875) ...\n",
      "Done.\n",
      "\n",
      "Solving on slab_12 = Ω x (0.1875, 0.20312) ...\n",
      "Done.\n",
      "\n",
      "Solving on slab_13 = Ω x (0.20312, 0.21875) ...\n",
      "Done.\n",
      "\n",
      "Solving on slab_14 = Ω x (0.21875, 0.23438) ...\n",
      "Done.\n",
      "\n",
      "Solving on slab_15 = Ω x (0.23438, 0.25) ...\n",
      "Done.\n",
      "\n",
      "Solving on slab_16 = Ω x (0.25, 0.26562) ...\n",
      "Done.\n",
      "\n",
      "Solving on slab_17 = Ω x (0.26562, 0.28125) ...\n",
      "Done.\n",
      "\n",
      "Solving on slab_18 = Ω x (0.28125, 0.29688) ...\n",
      "Done.\n",
      "\n",
      "Solving on slab_19 = Ω x (0.29688, 0.3125) ...\n",
      "Done.\n",
      "\n",
      "Solving on slab_20 = Ω x (0.3125, 0.32812) ...\n",
      "Done.\n",
      "\n",
      "Solving on slab_21 = Ω x (0.32812, 0.34375) ...\n",
      "Done.\n",
      "\n",
      "Solving on slab_22 = Ω x (0.34375, 0.35938) ...\n",
      "Done.\n",
      "\n",
      "Solving on slab_23 = Ω x (0.35938, 0.375) ...\n",
      "Done.\n",
      "\n",
      "Solving on slab_24 = Ω x (0.375, 0.39062) ...\n",
      "Done.\n",
      "\n",
      "Solving on slab_25 = Ω x (0.39062, 0.40625) ...\n",
      "Done.\n",
      "\n",
      "Solving on slab_26 = Ω x (0.40625, 0.42188) ...\n",
      "Done.\n",
      "\n",
      "Solving on slab_27 = Ω x (0.42188, 0.4375) ...\n",
      "Done.\n",
      "\n",
      "Solving on slab_28 = Ω x (0.4375, 0.45312) ...\n",
      "Done.\n",
      "\n",
      "Solving on slab_29 = Ω x (0.45312, 0.46875) ...\n",
      "Done.\n",
      "\n",
      "Solving on slab_30 = Ω x (0.46875, 0.48438) ...\n",
      "Done.\n",
      "\n",
      "Solving on slab_31 = Ω x (0.48438, 0.5) ...\n",
      "Done.\n",
      "\n",
      "------------\n",
      "| RESULTS: |\n",
      "------------\n",
      "Space-time Dofs: 8256\n",
      "L2 error: 2.204928185812865e-07\n",
      "CPU Time: 0.91901 s \n",
      "\n",
      "\n",
      "CONFIG: s = 2, r = 1, slab_size = 0.5, n_x = 2\n"
     ]
    },
    {
     "data": {
      "image/png": "[encoded data removed]",
      "text/plain": [
       "<Figure size 432x288 with 1 Axes>"
      ]
     },
     "metadata": {
      "needs_background": "light"
     },
     "output_type": "display_data"
    },
    {
     "name": "stdout",
     "output_type": "stream",
     "text": [
      "Solving on slab_0 = Ω x (0.0, 0.5) ...\n",
      "Done.\n",
      "\n",
      "------------\n",
      "| RESULTS: |\n",
      "------------\n",
      "Space-time Dofs: 20\n",
      "L2 error: 1.3092603376478162e-06\n",
      "CPU Time: 0.16443 s \n",
      "\n",
      "\n",
      "CONFIG: s = 2, r = 1, slab_size = 0.25, n_x = 4\n"
     ]
    },
    {
     "data": {
      "image/png": "[encoded data removed]",
      "text/plain": [
       "<Figure size 432x288 with 1 Axes>"
      ]
     },
     "metadata": {
      "needs_background": "light"
     },
     "output_type": "display_data"
    },
    {
     "name": "stdout",
     "output_type": "stream",
     "text": [
      "Solving on slab_0 = Ω x (0.0, 0.25) ...\n",
      "Done.\n",
      "\n",
      "Solving on slab_1 = Ω x (0.25, 0.5) ...\n",
      "Done.\n",
      "\n",
      "------------\n",
      "| RESULTS: |\n",
      "------------\n",
      "Space-time Dofs: 72\n",
      "L2 error: 6.677949454128171e-08\n",
      "CPU Time: 0.26518 s \n",
      "\n",
      "\n",
      "CONFIG: s = 2, r = 1, slab_size = 0.125, n_x = 8\n"
     ]
    },
    {
     "data": {
      "image/png": "[encoded data removed]",
      "text/plain": [
       "<Figure size 432x288 with 1 Axes>"
      ]
     },
     "metadata": {
      "needs_background": "light"
     },
     "output_type": "display_data"
    },
    {
     "name": "stdout",
     "output_type": "stream",
     "text": [
      "Solving on slab_0 = Ω x (0.0, 0.125) ...\n",
      "Done.\n",
      "\n",
      "Solving on slab_1 = Ω x (0.125, 0.25) ...\n",
      "Done.\n",
      "\n",
      "Solving on slab_2 = Ω x (0.25, 0.375) ...\n",
      "Done.\n",
      "\n",
      "Solving on slab_3 = Ω x (0.375, 0.5) ...\n",
      "Done.\n",
      "\n",
      "------------\n",
      "| RESULTS: |\n",
      "------------\n",
      "Space-time Dofs: 272\n",
      "L2 error: 4.619228189043252e-09\n",
      "CPU Time: 0.44459 s \n",
      "\n",
      "\n",
      "CONFIG: s = 2, r = 1, slab_size = 0.0625, n_x = 16\n"
     ]
    },
    {
     "data": {
      "image/png": "[encoded data removed]",
      "text/plain": [
       "<Figure size 432x288 with 1 Axes>"
      ]
     },
     "metadata": {
      "needs_background": "light"
     },
     "output_type": "display_data"
    },
    {
     "name": "stdout",
     "output_type": "stream",
     "text": [
      "Solving on slab_0 = Ω x (0.0, 0.0625) ...\n",
      "Done.\n",
      "\n",
      "Solving on slab_1 = Ω x (0.0625, 0.125) ...\n",
      "Done.\n",
      "\n",
      "Solving on slab_2 = Ω x (0.125, 0.1875) ...\n",
      "Done.\n",
      "\n",
      "Solving on slab_3 = Ω x (0.1875, 0.25) ...\n",
      "Done.\n",
      "\n",
      "Solving on slab_4 = Ω x (0.25, 0.3125) ...\n",
      "Done.\n",
      "\n",
      "Solving on slab_5 = Ω x (0.3125, 0.375) ...\n",
      "Done.\n",
      "\n",
      "Solving on slab_6 = Ω x (0.375, 0.4375) ...\n",
      "Done.\n",
      "\n",
      "Solving on slab_7 = Ω x (0.4375, 0.5) ...\n",
      "Done.\n",
      "\n",
      "------------\n",
      "| RESULTS: |\n",
      "------------\n",
      "Space-time Dofs: 1056\n",
      "L2 error: 3.0958132169487794e-10\n",
      "CPU Time: 1.28423 s \n",
      "\n",
      "\n",
      "CONFIG: s = 2, r = 1, slab_size = 0.03125, n_x = 32\n"
     ]
    },
    {
     "data": {
      "image/png": "[encoded data removed]",
      "text/plain": [
       "<Figure size 432x288 with 1 Axes>"
      ]
     },
     "metadata": {
      "needs_background": "light"
     },
     "output_type": "display_data"
    },
    {
     "name": "stdout",
     "output_type": "stream",
     "text": [
      "Solving on slab_0 = Ω x (0.0, 0.03125) ...\n",
      "Done.\n",
      "\n",
      "Solving on slab_1 = Ω x (0.03125, 0.0625) ...\n",
      "Done.\n",
      "\n",
      "Solving on slab_2 = Ω x (0.0625, 0.09375) ...\n",
      "Done.\n",
      "\n",
      "Solving on slab_3 = Ω x (0.09375, 0.125) ...\n",
      "Done.\n",
      "\n",
      "Solving on slab_4 = Ω x (0.125, 0.15625) ...\n",
      "Done.\n",
      "\n",
      "Solving on slab_5 = Ω x (0.15625, 0.1875) ...\n",
      "Done.\n",
      "\n",
      "Solving on slab_6 = Ω x (0.1875, 0.21875) ...\n",
      "Done.\n",
      "\n",
      "Solving on slab_7 = Ω x (0.21875, 0.25) ...\n",
      "Done.\n",
      "\n",
      "Solving on slab_8 = Ω x (0.25, 0.28125) ...\n",
      "Done.\n",
      "\n",
      "Solving on slab_9 = Ω x (0.28125, 0.3125) ...\n",
      "Done.\n",
      "\n",
      "Solving on slab_10 = Ω x (0.3125, 0.34375) ...\n",
      "Done.\n",
      "\n",
      "Solving on slab_11 = Ω x (0.34375, 0.375) ...\n",
      "Done.\n",
      "\n",
      "Solving on slab_12 = Ω x (0.375, 0.40625) ...\n",
      "Done.\n",
      "\n",
      "Solving on slab_13 = Ω x (0.40625, 0.4375) ...\n",
      "Done.\n",
      "\n",
      "Solving on slab_14 = Ω x (0.4375, 0.46875) ...\n",
      "Done.\n",
      "\n",
      "Solving on slab_15 = Ω x (0.46875, 0.5) ...\n",
      "Done.\n",
      "\n",
      "------------\n",
      "| RESULTS: |\n",
      "------------\n",
      "Space-time Dofs: 4160\n",
      "L2 error: 2.0092316901852398e-11\n",
      "CPU Time: 4.54515 s \n",
      "\n",
      "\n",
      "CONFIG: s = 2, r = 1, slab_size = 0.015625, n_x = 64\n"
     ]
    },
    {
     "data": {
      "image/png": "[encoded data removed]",
      "text/plain": [
       "<Figure size 432x288 with 1 Axes>"
      ]
     },
     "metadata": {
      "needs_background": "light"
     },
     "output_type": "display_data"
    },
    {
     "name": "stdout",
     "output_type": "stream",
     "text": [
      "Solving on slab_0 = Ω x (0.0, 0.01562) ...\n",
      "Done.\n",
      "\n",
      "Solving on slab_1 = Ω x (0.01562, 0.03125) ...\n",
      "Done.\n",
      "\n",
      "Solving on slab_2 = Ω x (0.03125, 0.04688) ...\n",
      "Done.\n",
      "\n",
      "Solving on slab_3 = Ω x (0.04688, 0.0625) ...\n",
      "Done.\n",
      "\n",
      "Solving on slab_4 = Ω x (0.0625, 0.07812) ...\n",
      "Done.\n",
      "\n",
      "Solving on slab_5 = Ω x (0.07812, 0.09375) ...\n",
      "Done.\n",
      "\n",
      "Solving on slab_6 = Ω x (0.09375, 0.10938) ...\n",
      "Done.\n",
      "\n",
      "Solving on slab_7 = Ω x (0.10938, 0.125) ...\n",
      "Done.\n",
      "\n",
      "Solving on slab_8 = Ω x (0.125, 0.14062) ...\n",
      "Done.\n",
      "\n",
      "Solving on slab_9 = Ω x (0.14062, 0.15625) ...\n",
      "Done.\n",
      "\n",
      "Solving on slab_10 = Ω x (0.15625, 0.17188) ...\n",
      "Done.\n",
      "\n",
      "Solving on slab_11 = Ω x (0.17188, 0.1875) ...\n",
      "Done.\n",
      "\n",
      "Solving on slab_12 = Ω x (0.1875, 0.20312) ...\n",
      "Done.\n",
      "\n",
      "Solving on slab_13 = Ω x (0.20312, 0.21875) ...\n",
      "Done.\n",
      "\n",
      "Solving on slab_14 = Ω x (0.21875, 0.23438) ...\n",
      "Done.\n",
      "\n",
      "Solving on slab_15 = Ω x (0.23438, 0.25) ...\n",
      "Done.\n",
      "\n",
      "Solving on slab_16 = Ω x (0.25, 0.26562) ...\n",
      "Done.\n",
      "\n",
      "Solving on slab_17 = Ω x (0.26562, 0.28125) ...\n",
      "Done.\n",
      "\n",
      "Solving on slab_18 = Ω x (0.28125, 0.29688) ...\n",
      "Done.\n",
      "\n",
      "Solving on slab_19 = Ω x (0.29688, 0.3125) ...\n",
      "Done.\n",
      "\n",
      "Solving on slab_20 = Ω x (0.3125, 0.32812) ...\n",
      "Done.\n",
      "\n",
      "Solving on slab_21 = Ω x (0.32812, 0.34375) ...\n",
      "Done.\n",
      "\n",
      "Solving on slab_22 = Ω x (0.34375, 0.35938) ...\n",
      "Done.\n",
      "\n",
      "Solving on slab_23 = Ω x (0.35938, 0.375) ...\n",
      "Done.\n",
      "\n",
      "Solving on slab_24 = Ω x (0.375, 0.39062) ...\n",
      "Done.\n",
      "\n",
      "Solving on slab_25 = Ω x (0.39062, 0.40625) ...\n",
      "Done.\n",
      "\n",
      "Solving on slab_26 = Ω x (0.40625, 0.42188) ...\n",
      "Done.\n",
      "\n",
      "Solving on slab_27 = Ω x (0.42188, 0.4375) ...\n",
      "Done.\n",
      "\n",
      "Solving on slab_28 = Ω x (0.4375, 0.45312) ...\n",
      "Done.\n",
      "\n",
      "Solving on slab_29 = Ω x (0.45312, 0.46875) ...\n",
      "Done.\n",
      "\n",
      "Solving on slab_30 = Ω x (0.46875, 0.48438) ...\n",
      "Done.\n",
      "\n",
      "Solving on slab_31 = Ω x (0.48438, 0.5) ...\n",
      "Done.\n",
      "\n",
      "------------\n",
      "| RESULTS: |\n",
      "------------\n",
      "Space-time Dofs: 16512\n",
      "L2 error: 1.2803816254902523e-12\n",
      "CPU Time: 8.40782 s \n",
      "\n",
      "\n",
      "CONFIG: s = 2, r = 2, slab_size = 0.5, n_x = 2\n"
     ]
    },
    {
     "data": {
      "image/png": "[encoded data removed]",
      "text/plain": [
       "<Figure size 432x288 with 1 Axes>"
      ]
     },
     "metadata": {
      "needs_background": "light"
     },
     "output_type": "display_data"
    },
    {
     "name": "stdout",
     "output_type": "stream",
     "text": [
      "Solving on slab_0 = Ω x (0.0, 0.5) ...\n",
      "Done.\n",
      "\n",
      "------------\n",
      "| RESULTS: |\n",
      "------------\n",
      "Space-time Dofs: 30\n",
      "L2 error: 4.826405629328341e-07\n",
      "CPU Time: 0.39751 s \n",
      "\n",
      "\n",
      "CONFIG: s = 2, r = 2, slab_size = 0.25, n_x = 4\n"
     ]
    },
    {
     "data": {
      "image/png": "[encoded data removed]",
      "text/plain": [
       "<Figure size 432x288 with 1 Axes>"
      ]
     },
     "metadata": {
      "needs_background": "light"
     },
     "output_type": "display_data"
    },
    {
     "name": "stdout",
     "output_type": "stream",
     "text": [
      "Solving on slab_0 = Ω x (0.0, 0.25) ...\n",
      "Done.\n",
      "\n",
      "Solving on slab_1 = Ω x (0.25, 0.5) ...\n",
      "Done.\n",
      "\n",
      "------------\n",
      "| RESULTS: |\n",
      "------------\n",
      "Space-time Dofs: 108\n",
      "L2 error: 1.4807535604640938e-09\n",
      "CPU Time: 0.66487 s \n",
      "\n",
      "\n",
      "CONFIG: s = 2, r = 2, slab_size = 0.125, n_x = 8\n"
     ]
    },
    {
     "data": {
      "image/png": "[encoded data removed]",
      "text/plain": [
       "<Figure size 432x288 with 1 Axes>"
      ]
     },
     "metadata": {
      "needs_background": "light"
     },
     "output_type": "display_data"
    },
    {
     "name": "stdout",
     "output_type": "stream",
     "text": [
      "Solving on slab_0 = Ω x (0.0, 0.125) ...\n",
      "Done.\n",
      "\n",
      "Solving on slab_1 = Ω x (0.125, 0.25) ...\n",
      "Done.\n",
      "\n",
      "Solving on slab_2 = Ω x (0.25, 0.375) ...\n",
      "Done.\n",
      "\n",
      "Solving on slab_3 = Ω x (0.375, 0.5) ...\n",
      "Done.\n",
      "\n",
      "------------\n",
      "| RESULTS: |\n",
      "------------\n",
      "Space-time Dofs: 408\n",
      "L2 error: 5.540526382757645e-12\n",
      "CPU Time: 1.28988 s \n",
      "\n",
      "\n",
      "CONFIG: s = 2, r = 2, slab_size = 0.0625, n_x = 16\n"
     ]
    },
    {
     "data": {
      "image/png": "[encoded data removed]",
      "text/plain": [
       "<Figure size 432x288 with 1 Axes>"
      ]
     },
     "metadata": {
      "needs_background": "light"
     },
     "output_type": "display_data"
    },
    {
     "name": "stdout",
     "output_type": "stream",
     "text": [
      "Solving on slab_0 = Ω x (0.0, 0.0625) ...\n",
      "Done.\n",
      "\n",
      "Solving on slab_1 = Ω x (0.0625, 0.125) ...\n",
      "Done.\n",
      "\n",
      "Solving on slab_2 = Ω x (0.125, 0.1875) ...\n",
      "Done.\n",
      "\n",
      "Solving on slab_3 = Ω x (0.1875, 0.25) ...\n",
      "Done.\n",
      "\n",
      "Solving on slab_4 = Ω x (0.25, 0.3125) ...\n",
      "Done.\n",
      "\n",
      "Solving on slab_5 = Ω x (0.3125, 0.375) ...\n",
      "Done.\n",
      "\n",
      "Solving on slab_6 = Ω x (0.375, 0.4375) ...\n",
      "Done.\n",
      "\n",
      "Solving on slab_7 = Ω x (0.4375, 0.5) ...\n",
      "Done.\n",
      "\n",
      "------------\n",
      "| RESULTS: |\n",
      "------------\n",
      "Space-time Dofs: 1584\n",
      "L2 error: 2.2476955443061025e-14\n",
      "CPU Time: 9.17465 s \n",
      "\n",
      "\n",
      "CONFIG: s = 2, r = 2, slab_size = 0.03125, n_x = 32\n"
     ]
    },
    {
     "data": {
      "image/png": "[encoded data removed]",
      "text/plain": [
       "<Figure size 432x288 with 1 Axes>"
      ]
     },
     "metadata": {
      "needs_background": "light"
     },
     "output_type": "display_data"
    },
    {
     "name": "stdout",
     "output_type": "stream",
     "text": [
      "Solving on slab_0 = Ω x (0.0, 0.03125) ...\n",
      "Done.\n",
      "\n",
      "Solving on slab_1 = Ω x (0.03125, 0.0625) ...\n",
      "Done.\n",
      "\n",
      "Solving on slab_2 = Ω x (0.0625, 0.09375) ...\n",
      "Done.\n",
      "\n",
      "Solving on slab_3 = Ω x (0.09375, 0.125) ...\n",
      "Done.\n",
      "\n",
      "Solving on slab_4 = Ω x (0.125, 0.15625) ...\n",
      "Done.\n",
      "\n",
      "Solving on slab_5 = Ω x (0.15625, 0.1875) ...\n",
      "Done.\n",
      "\n",
      "Solving on slab_6 = Ω x (0.1875, 0.21875) ...\n",
      "Done.\n",
      "\n",
      "Solving on slab_7 = Ω x (0.21875, 0.25) ...\n",
      "Done.\n",
      "\n",
      "Solving on slab_8 = Ω x (0.25, 0.28125) ...\n",
      "Done.\n",
      "\n",
      "Solving on slab_9 = Ω x (0.28125, 0.3125) ...\n",
      "Done.\n",
      "\n",
      "Solving on slab_10 = Ω x (0.3125, 0.34375) ...\n",
      "Done.\n",
      "\n",
      "Solving on slab_11 = Ω x (0.34375, 0.375) ...\n",
      "Done.\n",
      "\n",
      "Solving on slab_12 = Ω x (0.375, 0.40625) ...\n",
      "Done.\n",
      "\n",
      "Solving on slab_13 = Ω x (0.40625, 0.4375) ...\n",
      "Done.\n",
      "\n",
      "Solving on slab_14 = Ω x (0.4375, 0.46875) ...\n",
      "Done.\n",
      "\n",
      "Solving on slab_15 = Ω x (0.46875, 0.5) ...\n",
      "Done.\n",
      "\n",
      "------------\n",
      "| RESULTS: |\n",
      "------------\n",
      "Space-time Dofs: 6240\n",
      "L2 error: 1.0544250070656087e-16\n",
      "CPU Time: 10.64837 s \n",
      "\n",
      "\n",
      "CONFIG: s = 2, r = 2, slab_size = 0.015625, n_x = 64\n"
     ]
    },
    {
     "data": {
      "image/png": "[encoded data removed]",
      "text/plain": [
       "<Figure size 432x288 with 1 Axes>"
      ]
     },
     "metadata": {
      "needs_background": "light"
     },
     "output_type": "display_data"
    },
    {
     "name": "stdout",
     "output_type": "stream",
     "text": [
      "Solving on slab_0 = Ω x (0.0, 0.01562) ...\n",
      "Done.\n",
      "\n",
      "Solving on slab_1 = Ω x (0.01562, 0.03125) ...\n",
      "Done.\n",
      "\n",
      "Solving on slab_2 = Ω x (0.03125, 0.04688) ...\n",
      "Done.\n",
      "\n",
      "Solving on slab_3 = Ω x (0.04688, 0.0625) ...\n",
      "Done.\n",
      "\n",
      "Solving on slab_4 = Ω x (0.0625, 0.07812) ...\n",
      "Done.\n",
      "\n",
      "Solving on slab_5 = Ω x (0.07812, 0.09375) ...\n",
      "Done.\n",
      "\n",
      "Solving on slab_6 = Ω x (0.09375, 0.10938) ...\n",
      "Done.\n",
      "\n",
      "Solving on slab_7 = Ω x (0.10938, 0.125) ...\n",
      "Done.\n",
      "\n",
      "Solving on slab_8 = Ω x (0.125, 0.14062) ...\n",
      "Done.\n",
      "\n",
      "Solving on slab_9 = Ω x (0.14062, 0.15625) ...\n",
      "Done.\n",
      "\n",
      "Solving on slab_10 = Ω x (0.15625, 0.17188) ...\n",
      "Done.\n",
      "\n",
      "Solving on slab_11 = Ω x (0.17188, 0.1875) ...\n",
      "Done.\n",
      "\n",
      "Solving on slab_12 = Ω x (0.1875, 0.20312) ...\n",
      "Done.\n",
      "\n",
      "Solving on slab_13 = Ω x (0.20312, 0.21875) ...\n",
      "Done.\n",
      "\n",
      "Solving on slab_14 = Ω x (0.21875, 0.23438) ...\n",
      "Done.\n",
      "\n",
      "Solving on slab_15 = Ω x (0.23438, 0.25) ...\n",
      "Done.\n",
      "\n",
      "Solving on slab_16 = Ω x (0.25, 0.26562) ...\n",
      "Done.\n",
      "\n",
      "Solving on slab_17 = Ω x (0.26562, 0.28125) ...\n",
      "Done.\n",
      "\n",
      "Solving on slab_18 = Ω x (0.28125, 0.29688) ...\n",
      "Done.\n",
      "\n",
      "Solving on slab_19 = Ω x (0.29688, 0.3125) ...\n",
      "Done.\n",
      "\n",
      "Solving on slab_20 = Ω x (0.3125, 0.32812) ...\n",
      "Done.\n",
      "\n",
      "Solving on slab_21 = Ω x (0.32812, 0.34375) ...\n",
      "Done.\n",
      "\n",
      "Solving on slab_22 = Ω x (0.34375, 0.35938) ...\n",
      "Done.\n",
      "\n",
      "Solving on slab_23 = Ω x (0.35938, 0.375) ...\n",
      "Done.\n",
      "\n",
      "Solving on slab_24 = Ω x (0.375, 0.39062) ...\n",
      "Done.\n",
      "\n",
      "Solving on slab_25 = Ω x (0.39062, 0.40625) ...\n",
      "Done.\n",
      "\n",
      "Solving on slab_26 = Ω x (0.40625, 0.42188) ...\n",
      "Done.\n",
      "\n",
      "Solving on slab_27 = Ω x (0.42188, 0.4375) ...\n",
      "Done.\n",
      "\n",
      "Solving on slab_28 = Ω x (0.4375, 0.45312) ...\n",
      "Done.\n",
      "\n",
      "Solving on slab_29 = Ω x (0.45312, 0.46875) ...\n",
      "Done.\n",
      "\n",
      "Solving on slab_30 = Ω x (0.46875, 0.48438) ...\n",
      "Done.\n",
      "\n",
      "Solving on slab_31 = Ω x (0.48438, 0.5) ...\n",
      "Done.\n",
      "\n",
      "------------\n",
      "| RESULTS: |\n",
      "------------\n",
      "Space-time Dofs: 24768\n",
      "L2 error: 6.937904776365192e-19\n",
      "CPU Time: 20.55145 s \n",
      "\n",
      "\n",
      "\n",
      "\n",
      "Time for creating convergence analysis: 101.72616 s\n"
     ]
    }
   ],
   "source": [
    "##############################################\n",
    "# Start a time marching / time slabbing loop #\n",
    "##############################################\n",
    "start_time = 0.\n",
    "end_time = 0.5\n",
    "\n",
    "conv_table_start_time = time.time()\n",
    "convergence_table = {}\n",
    "for s in [1, 2]: # polynomial degree in space\n",
    "    for r in [0, 1, 2]: # polynomial degree in time\n",
    "        convergence_table[r, s] = {}\n",
    "        slab_size = 1.\n",
    "        n_x = 1\n",
    "        for i in range(6):\n",
    "            slab_size *= 0.5\n",
    "            n_x *= 2\n",
    "            \n",
    "            # start simulation\n",
    "            cpu_start_time = time.time()\n",
    "            print(f\"CONFIG: s = {s}, r = {r}, slab_size = {slab_size}, n_x = {n_x}\")\n",
    "\n",
    "            slabs = [(start_time, start_time+slab_size)]\n",
    "            while slabs[-1][1] < end_time - 1e-8:\n",
    "                slabs.append((slabs[-1][1], slabs[-1][1]+slab_size))\n",
    "\n",
    "            # get spatial function space\n",
    "            space_mesh = IntervalMesh(n_x, 0., 1.) # \\Omega = (0,1)\n",
    "            plot(space_mesh, title=\"spatial mesh\")\n",
    "            plt.show()\n",
    "            Vh = FunctionSpace(space_mesh, 'CG', s) # spatial function space for a single time point\n",
    "            uh = Function(Vh)\n",
    "            phih = TestFunction(Vh)\n",
    "\n",
    "            # analytical solution\n",
    "            u_analytical = Expression('sin(pi*x[0])*(1.+t)*exp(-0.5*t)', degree=4, pi=np.pi, t=0.)\n",
    "\n",
    "            # initial condition on slab\n",
    "            u0 = Function(Vh)\n",
    "            u0 = interpolate(u_analytical, Vh)\n",
    "\n",
    "            # preassemble spatial forms\n",
    "            mass_form = uh*phih*dx\n",
    "            laplace_form = inner(grad(uh), grad(phih))*dx\n",
    "\n",
    "            L2_error = 0.\n",
    "            total_n_dofs = 0\n",
    "            total_time_n_dofs = 0\n",
    "\n",
    "            #####################\n",
    "            # Time slabbing loop:\n",
    "            for k, slab in enumerate(slabs):\n",
    "                print(f\"Solving on slab_{k} = Ω x ({round(slab[0],5)}, {round(slab[1],5)}) ...\")\n",
    "\n",
    "                #########################################\n",
    "                # Create temporal finite element object #\n",
    "                #########################################\n",
    "                Time = TimeFE(r=r, a=slab[0], b=slab[1], n_time=2, n_q_points=r+1)\n",
    "\n",
    "                element_u = FiniteElement(\"CG\", space_mesh.ufl_cell(), s)\n",
    "                V = FunctionSpace(space_mesh, MixedElement(*[element_u for _ in range(Time.n_dofs)]))\n",
    "\n",
    "                U = Function(V)\n",
    "                Phi = TestFunctions(V)\n",
    "\n",
    "                # start with \"empty\" space-time variational form\n",
    "                F = Constant(0.)*U[0]*Phi[0]*dx\n",
    "                rhs_force = Expression('(1.0/2.0)*(2*pow(t + 1, 2)*exp((1.0/2.0)*t)*sin(pi*x[0]) + (-t + 2*pow(pi, 2)*(t + 1) + 1)*exp(t))*exp(-3.0/2.0*t)*sin(pi*x[0])', degree=4, pi=np.pi, t=0.)\n",
    "                \n",
    "                # volume integrals\n",
    "                for time_element in Time.mesh:\n",
    "                    # assemble linear terms\n",
    "                    for i in Time.local_dofs[time_element]:\n",
    "                        for j in Time.local_dofs[time_element]:\n",
    "                            for (t_q, w_q) in Time.quadrature[time_element]:\n",
    "                                # TODO: to reduce the number of terms in the sum, the sum over the temporal quadrature can be evaluated prior to adding to the form F\n",
    "                                F += Constant(w_q * Time.dt_phi[j](t_q) * Time.phi[i](t_q)) \\\n",
    "                                    * replace(mass_form, {uh: U[j], phih: Phi[i]})\n",
    "                                F += Constant(w_q * Time.phi[j](t_q) * Time.phi[i](t_q)) \\\n",
    "                                    * replace(laplace_form, {uh: U[j], phih: Phi[i]})\n",
    "                    # assemble nonlinearity\n",
    "                    for i in Time.local_dofs[time_element]:\n",
    "                        for j in Time.local_dofs[time_element]:\n",
    "                            for l in Time.local_dofs[time_element]:\n",
    "                                # NOTE: For nonlinearities make sure that the temporal quadrature is fine enough\n",
    "                                # E.g. for the nonlinearity u^2, we need to be able to integrate polynomials of degree 3r exactly in time\n",
    "                                #      for this we need Gauss-Legendre quadrature of degree >= (3r+1)/2\n",
    "                                for (t_q, w_q) in Time.quadrature_fine[time_element]:\n",
    "                                    F += Constant(w_q * Time.phi[j](t_q) * Time.phi[l](t_q) * Time.phi[i](t_q)) \\\n",
    "                                        * U[j]*U[l]*Phi[i]*dx     \n",
    "                # RHS integral\n",
    "                for n, time_element in enumerate(Time.mesh):\n",
    "                    for i in Time.local_dofs[time_element]:\n",
    "                        # initial condition\n",
    "                        if n == 0:\n",
    "                            F -=  Constant(Time.phi[i](time_element[0]+Time.epsilon)) * u0 * Phi[i] * dx\n",
    "\n",
    "                        for (t_q, w_q) in Time.quadrature_fine[time_element]:\n",
    "                            F -= Constant(w_q * Time.phi[i](t_q)) * Expression('(1.0/2.0)*(2*pow(t + 1, 2)*exp((1.0/2.0)*t)*sin(pi*x[0]) + (-t + 2*pow(pi, 2)*(t + 1) + 1)*exp(t))*exp(-3.0/2.0*t)*sin(pi*x[0])', degree=4, pi=np.pi, t=t_q) * Phi[i] * dx \n",
    "\n",
    "\n",
    "                # jump terms (NOTE: For Gauss-Lobatto dG basis, we can hard code the values for the jump term)\n",
    "                for n, time_element in enumerate(Time.mesh):\n",
    "                    # a) u_m^+ * φ_m^+\n",
    "                    for i in Time.local_dofs[time_element]:\n",
    "                        for j in Time.local_dofs[time_element]:\n",
    "                            F += Constant(Time.phi[j](time_element[0]+Time.epsilon) * Time.phi[i](time_element[0]+Time.epsilon)) * replace(mass_form, {uh: U[j], phih: Phi[i]})\n",
    "                            \n",
    "                    # b) u_{m-1}^- * φ_m^+\n",
    "                    if n > 0:\n",
    "                        prev_time_element = Time.mesh[n-1]\n",
    "                        for i in Time.local_dofs[time_element]:\n",
    "                            for j in Time.local_dofs[prev_time_element]:\n",
    "                                F += Constant((-1.) * Time.phi[j](prev_time_element[1]-Time.epsilon) * Time.phi[i](time_element[0]+Time.epsilon)) * replace(mass_form, {uh: U[j], phih: Phi[i]})       \n",
    "                                \n",
    "                # define time dependent Dirichelt boundary conditions\n",
    "                bcs = []\n",
    "                for i, t_q in enumerate(Time.dof_locations):\n",
    "                    u_analytical.t = t_q\n",
    "                    if Time.n_dofs > 1:\n",
    "                        bcs.append(DirichletBC(V.sub(i), u_analytical, lambda _, on_boundary: on_boundary))\n",
    "                    else:\n",
    "                        # for dG(0) with 1 temporal element Vh = V\n",
    "                        raise NotImplementedError(\"Make sure that Time.n_dofs > 1, because otherwise V.sub(i) doesn't work\") \n",
    "                        \n",
    "                # solve problem\n",
    "                solve(F == 0, U, bcs)\n",
    "\n",
    "                # get u0 for next slab\n",
    "                u0 = Time.get_solution_at_time(slab[1]-Time.epsilon, Vh) #Vh_new)\n",
    "\n",
    "                # prepare convergence plot\n",
    "                total_time_n_dofs += Time.n_dofs\n",
    "                total_n_dofs += Vh.dim() * Time.n_dofs \n",
    "                for time_element in Time.mesh:\n",
    "                    for (t_q, w_q) in Time.quadrature_fine[time_element]:\n",
    "                        u_q_FEM = Time.get_solution_at_time(t_q, Vh)\n",
    "                        u_analytical.t = t_q\n",
    "                        u_q_analytical = interpolate(u_analytical, Vh)\n",
    "                        L2_error += w_q * assemble((u_q_analytical-u_q_FEM)**2*dx)\n",
    "                print(\"Done.\\n\")\n",
    "\n",
    "            print(\"------------\")\n",
    "            print(\"| RESULTS: |\")\n",
    "            print(\"------------\")\n",
    "            print(f\"Space-time Dofs: {total_n_dofs}\")\n",
    "            print(\"L2 error:\", L2_error)\n",
    "            cpu_time = round(time.time() - cpu_start_time, 5)\n",
    "            print(f\"CPU Time: {cpu_time} s \\n\\n\")\n",
    "            convergence_table[r, s][Vh.dim(), total_time_n_dofs] = {\"dofs\": total_n_dofs, \"error\": f\"{np.sqrt(L2_error):.3e}\", \"time\": cpu_time}\n",
    "                         \n",
    "print(f\"\\n\\nTime for creating convergence analysis: {round(time.time() - conv_table_start_time, 5)} s\")"
   ]
  },
  {
   "cell_type": "markdown",
   "metadata": {},
   "source": [
    "After having done the convergence analysis, we compute the convergence rates for each combination of temporal and spatial polynomial degrees. Then we plot the errors in a common plot."
   ]
  },
  {
   "cell_type": "code",
   "execution_count": 4,
   "metadata": {},
   "outputs": [
    {
     "name": "stdout",
     "output_type": "stream",
     "text": [
      "Convergence table:\n",
      "r = 0, s = 1:\n",
      "Convergence rate: 1.0035133532904594\n",
      "r = 1, s = 1:\n",
      "Convergence rate: 2.019983986778491\n",
      "r = 2, s = 1:\n",
      "Convergence rate: 2.0206053836951714\n",
      "r = 0, s = 2:\n",
      "Convergence rate: 0.9936583145656003\n",
      "r = 1, s = 2:\n",
      "Convergence rate: 1.9963891347575926\n",
      "r = 2, s = 2:\n",
      "Convergence rate: 3.6444496797166104\n"
     ]
    },
    {
     "data": {
      "image/png": "[encoded data removed]",
      "text/plain": [
       "<Figure size 1080x720 with 1 Axes>"
      ]
     },
     "metadata": {
      "needs_background": "light"
     },
     "output_type": "display_data"
    }
   ],
   "source": [
    "print(\"Convergence table:\")\n",
    "plt.figure(figsize=(15,10))\n",
    "for (r, s) in convergence_table.keys():\n",
    "    print(f\"r = {r}, s = {s}:\")\n",
    "    X = []\n",
    "    Y = []\n",
    "    for val in convergence_table[r, s].values():\n",
    "        X.append(val[\"dofs\"])\n",
    "        Y.append(float(val[\"error\"]))\n",
    "    plt.plot(X, Y, label=f\"r={r},s={s}\")\n",
    "    print(f\"Convergence rate: {-2. * (np.log(Y[-1]) - np.log(Y[-2])) / (np.log(X[-1]) - np.log(X[-2]))}\")\n",
    "plt.xscale(\"log\")\n",
    "plt.yscale(\"log\")\n",
    "plt.legend()\n",
    "plt.show()"
   ]
  },
  {
   "cell_type": "markdown",
   "metadata": {
    "id": "glXXeKiz0SHp"
   },
   "source": [
    "## Computing the RHS in SymPy for the nonlinear problem"
   ]
  },
  {
   "cell_type": "markdown",
   "metadata": {},
   "source": [
    "For completeness sake, we show how the right hand side can be computed using SymPy by plotting the analytical solution into the nonlinear heat equation."
   ]
  },
  {
   "cell_type": "code",
   "execution_count": 5,
   "metadata": {
    "id": "metf5YmTdI7u"
   },
   "outputs": [
    {
     "data": {
      "image/png": "[encoded data removed]",
      "text/latex": [
       "$\\displaystyle \\left(t + 1\\right) e^{- \\frac{t}{2}} \\sin{\\left(\\pi x \\right)}$"
      ],
      "text/plain": [
       "         -t          \n",
       "         ───         \n",
       "          2          \n",
       "(t + 1)⋅ℯ   ⋅sin(π⋅x)"
      ]
     },
     "execution_count": 5,
     "metadata": {},
     "output_type": "execute_result"
    }
   ],
   "source": [
    "from sympy import *\n",
    "\n",
    "x, y , t = symbols(\"x y t\")\n",
    "init_printing()\n",
    "\n",
    "u = sin(pi*x)*(1+t)*exp(-t/2)\n",
    "u"
   ]
  },
  {
   "cell_type": "code",
   "execution_count": 6,
   "metadata": {
    "id": "QoDxDgAfnIkb"
   },
   "outputs": [
    {
     "data": {
      "image/png": "[encoded data removed]",
      "text/latex": [
       "$\\displaystyle \\frac{\\left(2 \\left(t + 1\\right)^{2} e^{\\frac{t}{2}} \\sin{\\left(\\pi x \\right)} + \\left(- t + 2 \\pi^{2} \\left(t + 1\\right) + 1\\right) e^{t}\\right) e^{- \\frac{3 t}{2}} \\sin{\\left(\\pi x \\right)}}{2}$"
      ],
      "text/plain": [
       "⎛            t                                      ⎞  -3⋅t          \n",
       "⎜            ─                                      ⎟  ─────         \n",
       "⎜         2  2            ⎛        2            ⎞  t⎟    2           \n",
       "⎝2⋅(t + 1) ⋅ℯ ⋅sin(π⋅x) + ⎝-t + 2⋅π ⋅(t + 1) + 1⎠⋅ℯ ⎠⋅ℯ     ⋅sin(π⋅x)\n",
       "─────────────────────────────────────────────────────────────────────\n",
       "                                  2                                  "
      ]
     },
     "execution_count": 6,
     "metadata": {},
     "output_type": "execute_result"
    }
   ],
   "source": [
    "rhs_func = simplify(diff(u,t) - diff(u,x,2) + u**2)\n",
    "rhs_func"
   ]
  },
  {
   "cell_type": "code",
   "execution_count": 7,
   "metadata": {},
   "outputs": [
    {
     "data": {
      "text/plain": [
       "'(1.0/2.0)*(2*pow(t + 1, 2)*exp((1.0/2.0)*t)*sin(pi*x[0]) + (-t + 2*pow(pi, 2)*(t + 1) + 1)*exp(t))*exp(-3.0/2.0*t)*sin(pi*x[0])'"
      ]
     },
     "execution_count": 7,
     "metadata": {},
     "output_type": "execute_result"
    }
   ],
   "source": [
    "ccode(rhs_func).replace(\"exp\", \"EXP\").replace(\"x\",\"x[0]\").replace(\"EXP\", \"exp\").replace(\"M_PI\", \"pi\")\n"
   ]
  },
  {
   "cell_type": "code",
   "execution_count": null,
   "metadata": {},
   "outputs": [],
   "source": []
  }
 ],
 "metadata": {
  "colab": {
   "provenance": []
  },
  "kernelspec": {
   "display_name": "Python 3 (ipykernel)",
   "language": "python",
   "name": "python3"
  },
  "language_info": {
   "codemirror_mode": {
    "name": "ipython",
    "version": 3
   },
   "file_extension": ".py",
   "mimetype": "text/x-python",
   "name": "python",
   "nbconvert_exporter": "python",
   "pygments_lexer": "ipython3",
   "version": "3.11.3"
  }
 },
 "nbformat": 4,
 "nbformat_minor": 1
}
