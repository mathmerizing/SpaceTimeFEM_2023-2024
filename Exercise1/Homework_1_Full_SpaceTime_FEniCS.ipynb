{
 "cells": [
  {
   "cell_type": "markdown",
   "metadata": {},
   "source": [
    "# Implementing full space-time FEM in FEniCS"
   ]
  },
  {
   "cell_type": "code",
   "execution_count": 1,
   "metadata": {
    "colab": {
     "base_uri": "https://localhost:8080/"
    },
    "id": "fVX5BeVqmvIL",
    "outputId": "1d09d067-b3fa-4fa7-fee9-2eed320031ef"
   },
   "outputs": [],
   "source": [
    "try:\n",
    "    import dolfin\n",
    "except ImportError:\n",
    "    !wget \"https://fem-on-colab.github.io/releases/fenics-install.sh\" -O \"/tmp/fenics-install.sh\" && bash \"/tmp/fenics-install.sh\"\n",
    "    import dolfin"
   ]
  },
  {
   "cell_type": "markdown",
   "metadata": {},
   "source": [
    "## Full space-time Finite Element Method\n",
    "Now that you have understood how the Poisson problem can be solved in FEniCS, you will now need to extend this to a full space-time code. For this you will need to solve the heat equation in one spatial dimension, which is given by\n",
    "$$\n",
    "\\partial_t u - \\partial_{xx} u = f \\qquad \\forall x \\in \\Omega := (0,1),\\, t \\in I := \\left(0,\\frac{1}{2}\\right).\n",
    "$$\n",
    "The analytical solution is given by $u(x,t) := \\sin(\\pi x)(1 + t)\\exp(-\\frac{t}{2})$.\n",
    "On all space-time boundaries, we prescribe Dirichlet boundary conditions using the analytical solution and the right hand side $f$ is being derived by plugging the analytical solution into the PDE.\n",
    "\n",
    "<FONT COLOR=\"#ff0000\"> ToDo #1: Calculate the right hand side function $f$.</FONT>\n",
    "\n",
    "The right hand side is given by\n",
    "$$\n",
    "f(x,t) = \\color{red}{???}.\n",
    "$$\n",
    "\n",
    "<FONT COLOR=\"#ff0000\"> ToDo #2: Write down the space-time variational formulation for the heat equation.</FONT>\n",
    "\n",
    "The space-time variational formulation is: Find $u \\in V$ such that\n",
    "$$\n",
    "\\color{red}{???} = \\int_{\\Omega \\times I} f\\varphi\\ \\mathrm{d}(x,t) \\qquad \\forall \\varphi \\in V.\n",
    "$$\n",
    "\n",
    "<FONT COLOR=\"#ff0000\"> ToDo #3: Write the code for the space-time FEM solution of the heat equation. Plot the solution and the error to the analytical solution.</FONT>\n",
    "\n",
    "Hint 1: Instead of having to spatial coordinates $x$ and $y$, think of them as $x := x$, $y := t$, since you are dealing with a spatio-temporal problem.\n",
    "\n",
    "Hint 2: You can get directional derivatives by querying the different entries of the gradient, e.g. `grad(u)[0]` stands for $\\partial_x u$. "
   ]
  },
  {
   "cell_type": "code",
   "execution_count": 2,
   "metadata": {
    "colab": {
     "base_uri": "https://localhost:8080/",
     "height": 821
    },
    "id": "18eb4CJjmeZx",
    "outputId": "dca4192b-fea7-4368-f7eb-2ce14565f8e6"
   },
   "outputs": [
    {
     "ename": "NameError",
     "evalue": "name 'V' is not defined",
     "output_type": "error",
     "traceback": [
      "\u001b[0;31m---------------------------------------------------------------------------\u001b[0m",
      "\u001b[0;31mNameError\u001b[0m                                 Traceback (most recent call last)",
      "Cell \u001b[0;32mIn[2], line 10\u001b[0m\n\u001b[1;32m      5\u001b[0m set_log_active(\u001b[38;5;28;01mFalse\u001b[39;00m) \u001b[38;5;66;03m# turn off FEniCS logging\u001b[39;00m\n\u001b[1;32m      7\u001b[0m \u001b[38;5;66;03m# TODO: Write the code for the function space, the boundary conditions, the weak formulation, ...\u001b[39;00m\n\u001b[1;32m      8\u001b[0m \n\u001b[1;32m      9\u001b[0m \u001b[38;5;66;03m# Solve\u001b[39;00m\n\u001b[0;32m---> 10\u001b[0m u_h \u001b[38;5;241m=\u001b[39m Function(V)\n\u001b[1;32m     11\u001b[0m solve(a \u001b[38;5;241m==\u001b[39m L, u_h, bc)\n\u001b[1;32m     13\u001b[0m \u001b[38;5;66;03m# Plot solution and error\u001b[39;00m\n",
      "\u001b[0;31mNameError\u001b[0m: name 'V' is not defined"
     ]
    }
   ],
   "source": [
    "from fenics import *\n",
    "import matplotlib.pyplot as plt\n",
    "import math\n",
    "\n",
    "set_log_active(False) # turn off FEniCS logging\n",
    "\n",
    "# TODO: Write the code for the function space, the boundary conditions, the weak formulation, ...\n",
    "\n",
    "# Solve\n",
    "u_h = Function(V)\n",
    "solve(a == L, u_h, bc)\n",
    "\n",
    "# Plot solution and error\n",
    "plt.title(\"Solution\")\n",
    "c = plot(u_h)\n",
    "plt.colorbar(c)\n",
    "plt.show()\n",
    "\n",
    "plt.title(\"Error\")\n",
    "c = plot(U-u_h)\n",
    "plot(mesh)\n",
    "plt.colorbar(c)\n",
    "plt.show()\n",
    "\n",
    "print(f\"L2 error: {errornorm(U, u_h, 'L2')}\")"
   ]
  },
  {
   "cell_type": "code",
   "execution_count": null,
   "metadata": {
    "id": "QoDxDgAfnIkb"
   },
   "outputs": [],
   "source": []
  }
 ],
 "metadata": {
  "colab": {
   "provenance": []
  },
  "kernelspec": {
   "display_name": "Python 3 (ipykernel)",
   "language": "python",
   "name": "python3"
  },
  "language_info": {
   "codemirror_mode": {
    "name": "ipython",
    "version": 3
   },
   "file_extension": ".py",
   "mimetype": "text/x-python",
   "name": "python",
   "nbconvert_exporter": "python",
   "pygments_lexer": "ipython3",
   "version": "3.11.3"
  }
 },
 "nbformat": 4,
 "nbformat_minor": 1
}
