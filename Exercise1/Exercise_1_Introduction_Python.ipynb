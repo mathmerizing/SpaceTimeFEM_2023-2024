{
 "cells": [
  {
   "cell_type": "markdown",
   "metadata": {},
   "source": [
    "# Python crash course"
   ]
  },
  {
   "cell_type": "code",
   "execution_count": 1,
   "metadata": {},
   "outputs": [
    {
     "name": "stdout",
     "output_type": "stream",
     "text": [
      "Welcome to a short Python crash course!\n"
     ]
    }
   ],
   "source": [
    "print(\"Welcome to a short Python crash course!\")"
   ]
  },
  {
   "cell_type": "markdown",
   "metadata": {},
   "source": [
    "## Basic data structures"
   ]
  },
  {
   "cell_type": "markdown",
   "metadata": {},
   "source": [
    "Python is a dynamically typed, which means that the programmer doesn't need to specify the type of the variables, but the type of the variable is being inferred at run time."
   ]
  },
  {
   "cell_type": "code",
   "execution_count": 2,
   "metadata": {},
   "outputs": [],
   "source": [
    "x = 1         # type(x) = int [\"x is an integer\"]\n",
    "x = 1.0       # type(x) = float [\"x is a floating point number\"]\n",
    "x = [1, 2, 3] # type(x) = list\n",
    "x = (1, 2, 3) # type(x) = tuple\n",
    "x = {\"a\":1,\"b\":[1,2,3]} # type(x) = dict [\"x is a dictionary (~ hash map)\"]\n",
    "x = \"Hello\"   # type(x) = str [\"x is a string\"]\n",
    "x = 'World'   # type(x) = str"
   ]
  },
  {
   "cell_type": "markdown",
   "metadata": {},
   "source": [
    "### Integers and floating point numbers "
   ]
  },
  {
   "cell_type": "markdown",
   "metadata": {},
   "source": [
    "<span style=\"color: red\">Task 1: </span> Try out the usual arithmetic operations' +, -, *, /, % (remainder), // (floor division) on some integers and floating point numbers."
   ]
  },
  {
   "cell_type": "code",
   "execution_count": 3,
   "metadata": {},
   "outputs": [
    {
     "name": "stdout",
     "output_type": "stream",
     "text": [
      "1+2 = 3\n",
      "1+2.0 = 3.0\n",
      "3-4.5 = -1.5\n",
      "2*4 = 8\n",
      "9/3 = 3.0\n",
      "7%2 = 1\n",
      "7//2 = 3\n"
     ]
    }
   ],
   "source": [
    "# SOLUTION:\n",
    "print(\"1+2 =\",1+2)\n",
    "print(\"1+2.0 =\", 1+2.0)\n",
    "print(\"3-4.5 =\", 3-4.5)\n",
    "print(\"2*4 =\", 2*4)\n",
    "print(\"9/3 =\", 9/3)\n",
    "print(\"7%2 =\", 7%2)\n",
    "print(\"7//2 =\", 7//2)"
   ]
  },
  {
   "cell_type": "markdown",
   "metadata": {},
   "source": [
    "<span style=\"color: red\">Task 2: </span> Compute approximations to Euler's number by truncating its series representation $$e = \\sum_{n = 1}^\\infty \\frac{1}{n!}.$$ What are $\\frac{1}{0!} + \\frac{1}{1!}$ and $\\frac{1}{0!} + \\frac{1}{1!} + \\frac{1}{2!}$?"
   ]
  },
  {
   "cell_type": "code",
   "execution_count": 4,
   "metadata": {},
   "outputs": [
    {
     "name": "stdout",
     "output_type": "stream",
     "text": [
      "1/0!+1/1! = 2.0\n",
      "1/0!+1/1!+1/2! = 2.5\n"
     ]
    }
   ],
   "source": [
    "# SOLUTION:\n",
    "print(\"1/0!+1/1! =\", 1/1 + 1/1)\n",
    "print(\"1/0!+1/1!+1/2! =\", 1/1 + 1/1 + 1/(1*2))"
   ]
  },
  {
   "cell_type": "markdown",
   "metadata": {},
   "source": [
    "### Lists and tuples"
   ]
  },
  {
   "cell_type": "markdown",
   "metadata": {},
   "source": [
    "The index of Python's lists starts at 0 and you can also get the $n$.th element from the end by using negative indices."
   ]
  },
  {
   "cell_type": "code",
   "execution_count": 5,
   "metadata": {},
   "outputs": [
    {
     "name": "stdout",
     "output_type": "stream",
     "text": [
      "L[0] = 1\n",
      "L[-1] = 3.0\n"
     ]
    }
   ],
   "source": [
    "L = [1, \"2\", 3.0]\n",
    "print(\"L[0] =\", L[0])   # first element from L\n",
    "print(\"L[-1] =\", L[-1]) # last element from L"
   ]
  },
  {
   "cell_type": "markdown",
   "metadata": {},
   "source": [
    "You can add numbers to a list by appending them."
   ]
  },
  {
   "cell_type": "code",
   "execution_count": 6,
   "metadata": {},
   "outputs": [
    {
     "name": "stdout",
     "output_type": "stream",
     "text": [
      "L = [1, '2', 3.0, 4]\n"
     ]
    }
   ],
   "source": [
    "L.append(4)\n",
    "print(\"L =\", L)"
   ]
  },
  {
   "cell_type": "markdown",
   "metadata": {},
   "source": [
    "You can also add two lists."
   ]
  },
  {
   "cell_type": "code",
   "execution_count": 7,
   "metadata": {},
   "outputs": [
    {
     "name": "stdout",
     "output_type": "stream",
     "text": [
      "L = [1, '2', 3.0, 4, 5, 6]\n"
     ]
    }
   ],
   "source": [
    "L = L + [5, 6] # shorter: L += [5,6]\n",
    "print(\"L =\", L)"
   ]
  },
  {
   "cell_type": "markdown",
   "metadata": {},
   "source": [
    "Tuples are similar to lists, but their sizes cannot be modified."
   ]
  },
  {
   "cell_type": "code",
   "execution_count": 8,
   "metadata": {},
   "outputs": [
    {
     "name": "stdout",
     "output_type": "stream",
     "text": [
      "t = (1, '2', 3.0)\n"
     ]
    }
   ],
   "source": [
    "t = (1, \"2\", 3.0)\n",
    "print(\"t =\", t)"
   ]
  },
  {
   "cell_type": "markdown",
   "metadata": {},
   "source": [
    "### Dictionaries"
   ]
  },
  {
   "cell_type": "markdown",
   "metadata": {},
   "source": [
    "Dictionaries are key-value pairs of items and can be recognized by the curly braces."
   ]
  },
  {
   "cell_type": "code",
   "execution_count": 9,
   "metadata": {},
   "outputs": [
    {
     "name": "stdout",
     "output_type": "stream",
     "text": [
      "name['first_name'] = Leonhard\n",
      "name['last_name'] = Euler\n",
      "name.keys() = dict_keys(['first_name', 'last_name'])\n",
      "name.values() = dict_values(['Leonhard', 'Euler'])\n"
     ]
    }
   ],
   "source": [
    "name = {\"first_name\": \"Leonhard\", \"last_name\": \"Euler\"}\n",
    "print(\"name['first_name'] =\", name['first_name'])\n",
    "print(\"name['last_name'] =\", name['last_name'])\n",
    "print(\"name.keys() =\", name.keys())\n",
    "print(\"name.values() =\", name.values())"
   ]
  },
  {
   "cell_type": "markdown",
   "metadata": {},
   "source": [
    "### Strings"
   ]
  },
  {
   "cell_type": "markdown",
   "metadata": {},
   "source": [
    "Strings are a sequence of characters enclosed quotation marks, which can be either single, double, or triple quotes. To concatenate two strings, they can be added."
   ]
  },
  {
   "cell_type": "code",
   "execution_count": 10,
   "metadata": {},
   "outputs": [
    {
     "name": "stdout",
     "output_type": "stream",
     "text": [
      "string = Hello World!\n"
     ]
    }
   ],
   "source": [
    "string = \"Hello\" + \" World!\"\n",
    "print(\"string =\", string)"
   ]
  },
  {
   "cell_type": "markdown",
   "metadata": {},
   "source": [
    "Since Python 3.6, you can use f-strings, which use the letter f before the quotation marks and curly braces around the variable, to combine the value of a variable and strings in the output."
   ]
  },
  {
   "cell_type": "code",
   "execution_count": 11,
   "metadata": {},
   "outputs": [
    {
     "name": "stdout",
     "output_type": "stream",
     "text": [
      "You are successfully mastering Tutorial 1!\n"
     ]
    }
   ],
   "source": [
    "tutorial_number = 1\n",
    "print(f\"You are successfully mastering Tutorial {tutorial_number}!\")"
   ]
  },
  {
   "cell_type": "markdown",
   "metadata": {},
   "source": [
    "As of Python 3.8, you can save yourself some time by using the $=$ specifier inside f-strings:"
   ]
  },
  {
   "cell_type": "code",
   "execution_count": 12,
   "metadata": {},
   "outputs": [
    {
     "name": "stdout",
     "output_type": "stream",
     "text": [
      "var=1\n",
      "var=1\n"
     ]
    }
   ],
   "source": [
    "var=1\n",
    "print(f\"var={var}\") # old, longer code\n",
    "print(f\"{var=}\") # new, shorter code with the same output!"
   ]
  },
  {
   "cell_type": "markdown",
   "metadata": {},
   "source": [
    "## Functions and loops"
   ]
  },
  {
   "cell_type": "markdown",
   "metadata": {},
   "source": [
    "Functions in python look like this:"
   ]
  },
  {
   "cell_type": "code",
   "execution_count": 13,
   "metadata": {},
   "outputs": [],
   "source": [
    "def square(x):\n",
    "    return x * x"
   ]
  },
  {
   "cell_type": "code",
   "execution_count": 14,
   "metadata": {},
   "outputs": [
    {
     "name": "stdout",
     "output_type": "stream",
     "text": [
      "square(2)=4\n"
     ]
    }
   ],
   "source": [
    "print(f\"{square(2)=}\")"
   ]
  },
  {
   "cell_type": "markdown",
   "metadata": {},
   "source": [
    "Now you might want to square the numbers from 1 to 5. It is easiest to do so with a for-loop."
   ]
  },
  {
   "cell_type": "code",
   "execution_count": 15,
   "metadata": {},
   "outputs": [
    {
     "name": "stdout",
     "output_type": "stream",
     "text": [
      "squares=[1, 4, 9, 16, 25]\n"
     ]
    }
   ],
   "source": [
    "squares = []\n",
    "for i in range(1, 6): # range(1,6) = [1,2,3,4,5]\n",
    "    squares.append(square(i))\n",
    "print(f\"{squares=}\")"
   ]
  },
  {
   "cell_type": "markdown",
   "metadata": {},
   "source": [
    "This could also have been done with a while-loop:"
   ]
  },
  {
   "cell_type": "code",
   "execution_count": 16,
   "metadata": {},
   "outputs": [
    {
     "name": "stdout",
     "output_type": "stream",
     "text": [
      "squares=[1, 4, 9, 16, 25]\n"
     ]
    }
   ],
   "source": [
    "squares = []\n",
    "i = 1\n",
    "while i < 6:\n",
    "    squares.append(square(i))\n",
    "    i+=1\n",
    "print(f\"{squares=}\")"
   ]
  },
  {
   "cell_type": "markdown",
   "metadata": {},
   "source": [
    "To simplify these loops from above, Python allows for-loops inside definitions of list, so called list comprehension:"
   ]
  },
  {
   "cell_type": "code",
   "execution_count": 17,
   "metadata": {},
   "outputs": [
    {
     "name": "stdout",
     "output_type": "stream",
     "text": [
      "squares=[1, 4, 9, 16, 25]\n"
     ]
    }
   ],
   "source": [
    "squares = [square(i) for i in range(1,6)]\n",
    "print(f\"{squares=}\")"
   ]
  },
  {
   "cell_type": "markdown",
   "metadata": {},
   "source": [
    "In many programs, you don't only need to loop over the elements of a list, but additionally keep track of their position in the list. This can be realized by using enumerate."
   ]
  },
  {
   "cell_type": "code",
   "execution_count": 18,
   "metadata": {},
   "outputs": [
    {
     "name": "stdout",
     "output_type": "stream",
     "text": [
      "squares[0] = 1\n",
      "squares[1] = 4\n",
      "squares[2] = 9\n",
      "squares[3] = 16\n",
      "squares[4] = 25\n"
     ]
    }
   ],
   "source": [
    "for (i, element) in enumerate(squares):\n",
    "    print(f\"squares[{i}] = {element}\")"
   ]
  },
  {
   "cell_type": "markdown",
   "metadata": {},
   "source": [
    "<span style=\"color: red\">Task 3: </span> Create a function 'factorial' which returns $k!$. (Hint: You might want to use a for-loop)"
   ]
  },
  {
   "cell_type": "code",
   "execution_count": 19,
   "metadata": {},
   "outputs": [
    {
     "name": "stdout",
     "output_type": "stream",
     "text": [
      "0! = 1\n",
      "1! = 1\n",
      "2! = 2\n",
      "3! = 6\n",
      "4! = 24\n",
      "5! = 120\n"
     ]
    }
   ],
   "source": [
    "# SOLUTION:\n",
    "def factorial(k):\n",
    "    result = 1\n",
    "    for i in range(1,k+1):\n",
    "        result *= i # short form of 'result = result * i'\n",
    "    return result\n",
    "\n",
    "for i in range(6):\n",
    "    print(f\"{i}! = {factorial(i)}\")"
   ]
  },
  {
   "cell_type": "markdown",
   "metadata": {},
   "source": [
    "<span style=\"color: red\">Task 4: </span> Create a list of approximations to Euler's number. Create a function which computes the truncated series of Euler's number by summing up the first $m$ terms. Fill the list of the approximations with the trancated series of sizes 1, 2, 3, 4 and 5. Print out your results."
   ]
  },
  {
   "cell_type": "code",
   "execution_count": 20,
   "metadata": {},
   "outputs": [
    {
     "name": "stdout",
     "output_type": "stream",
     "text": [
      "Series with 1 term(s) = 1.0\n",
      "Series with 2 term(s) = 2.0\n",
      "Series with 3 term(s) = 2.5\n",
      "Series with 4 term(s) = 2.6666666666666665\n",
      "Series with 5 term(s) = 2.708333333333333\n"
     ]
    }
   ],
   "source": [
    "# SOLUTION:\n",
    "def approximate_e(m):\n",
    "    result = 0.\n",
    "    for i in range(m):\n",
    "        result += 1 / factorial(i)\n",
    "    return result\n",
    "\n",
    "approximations = [approximate_e(i) for i in range(1,6)]\n",
    "for (i, approximation) in enumerate(approximations):\n",
    "    print(f\"Series with {i+1} term(s) = {approximation}\")"
   ]
  },
  {
   "cell_type": "markdown",
   "metadata": {},
   "source": [
    "## Object-Oriented Programming (OOP)"
   ]
  },
  {
   "cell_type": "markdown",
   "metadata": {},
   "source": [
    "Object-oriented programming (OOP) is a programming paradigm based on the concept of objects, which can contain data and code, and help to structure the code. Creating a class in Python works as follows:"
   ]
  },
  {
   "cell_type": "code",
   "execution_count": 21,
   "metadata": {},
   "outputs": [],
   "source": [
    "class Fraction:\n",
    "    def __init__(self, numerator, denominator = 1):\n",
    "        self.numerator = numerator\n",
    "        self.denominator = denominator\n",
    "        \n",
    "    def value(self):\n",
    "        return self.numerator / self.denominator"
   ]
  },
  {
   "cell_type": "markdown",
   "metadata": {},
   "source": [
    "The constructor of the class is __init__(self,...) and the class methods all contain self as their first argument, which is a reference to the current instance of the class."
   ]
  },
  {
   "cell_type": "markdown",
   "metadata": {},
   "source": [
    "Now we create a few objects of this class."
   ]
  },
  {
   "cell_type": "code",
   "execution_count": 22,
   "metadata": {},
   "outputs": [
    {
     "name": "stdout",
     "output_type": "stream",
     "text": [
      "x.value()=1.5\n"
     ]
    }
   ],
   "source": [
    "x = Fraction(6,4)\n",
    "print(f\"{x.value()=}\")"
   ]
  },
  {
   "cell_type": "code",
   "execution_count": 23,
   "metadata": {},
   "outputs": [
    {
     "name": "stdout",
     "output_type": "stream",
     "text": [
      "x.value()=2.0\n"
     ]
    }
   ],
   "source": [
    "x = Fraction(2)\n",
    "print(f\"{x.value()=}\")"
   ]
  },
  {
   "cell_type": "markdown",
   "metadata": {},
   "source": [
    "<span style=\"color: red\">Task 5: </span> Create a class to store complex numbers called \"Complex\", which can also return the absolute value of the complex number. Create objects for $2$, $3+4i$ and $1 +1i$. Then calculate their absolute value."
   ]
  },
  {
   "cell_type": "code",
   "execution_count": 24,
   "metadata": {},
   "outputs": [
    {
     "name": "stdout",
     "output_type": "stream",
     "text": [
      "sqrt(2)=1.4142135623730951\n"
     ]
    }
   ],
   "source": [
    "# HINT: Calculating square root in Python:\n",
    "from math import sqrt\n",
    "print(f\"{sqrt(2)=}\")"
   ]
  },
  {
   "cell_type": "code",
   "execution_count": 25,
   "metadata": {},
   "outputs": [
    {
     "name": "stdout",
     "output_type": "stream",
     "text": [
      "number.absolute_value()=2.0\n",
      "number.absolute_value()=5.0\n",
      "number.absolute_value()=1.4142135623730951\n"
     ]
    }
   ],
   "source": [
    "# SOLUTION:\n",
    "class Complex:\n",
    "    def __init__(self, real, imaginery):\n",
    "        self.real = real\n",
    "        self.imaginery = imaginery\n",
    "        \n",
    "    def absolute_value(self):\n",
    "        return sqrt(self.real**2 + self.imaginery**2) # Note: x**2 = x*x\n",
    "\n",
    "complex_numbers = [Complex(2, 0), Complex(3, 4), Complex(1, 1)]\n",
    "for number in complex_numbers:\n",
    "    print(f\"{number.absolute_value()=}\")"
   ]
  },
  {
   "cell_type": "code",
   "execution_count": null,
   "metadata": {},
   "outputs": [],
   "source": []
  }
 ],
 "metadata": {
  "kernelspec": {
   "display_name": "Python 3",
   "language": "python",
   "name": "python3"
  },
  "language_info": {
   "codemirror_mode": {
    "name": "ipython",
    "version": 3
   },
   "file_extension": ".py",
   "mimetype": "text/x-python",
   "name": "python",
   "nbconvert_exporter": "python",
   "pygments_lexer": "ipython3",
   "version": "3.9.7"
  }
 },
 "nbformat": 4,
 "nbformat_minor": 4
}
